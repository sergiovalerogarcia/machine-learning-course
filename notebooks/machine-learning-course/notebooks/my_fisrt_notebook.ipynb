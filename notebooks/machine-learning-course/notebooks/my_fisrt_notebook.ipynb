{
 "cells": [
  {
   "cell_type": "markdown",
   "id": "future-newton",
   "metadata": {
    "ExecuteTime": {
     "end_time": "2021-03-30T16:11:18.438869Z",
     "start_time": "2021-03-30T16:11:18.434001Z"
    }
   },
   "source": [
    "# my_fisrt_notebook"
   ]
  },
  {
   "cell_type": "code",
   "execution_count": 2,
   "id": "specific-litigation",
   "metadata": {
    "ExecuteTime": {
     "end_time": "2021-03-30T16:11:25.875922Z",
     "start_time": "2021-03-30T16:11:25.853688Z"
    }
   },
   "outputs": [
    {
     "data": {
      "text/plain": [
       "3"
      ]
     },
     "execution_count": 2,
     "metadata": {},
     "output_type": "execute_result"
    }
   ],
   "source": [
    "1+2"
   ]
  },
  {
   "cell_type": "markdown",
   "id": "according-murder",
   "metadata": {
    "ExecuteTime": {
     "end_time": "2021-03-30T16:11:42.672773Z",
     "start_time": "2021-03-30T16:11:42.661039Z"
    }
   },
   "source": [
    "```{note}\n",
    "This is a note\n",
    "```"
   ]
  }
 ],
 "metadata": {
  "kernelspec": {
   "display_name": "Python 3",
   "language": "python",
   "name": "python3"
  },
  "language_info": {
   "codemirror_mode": {
    "name": "ipython",
    "version": 3
   },
   "file_extension": ".py",
   "mimetype": "text/x-python",
   "name": "python",
   "nbconvert_exporter": "python",
   "pygments_lexer": "ipython3",
   "version": "3.7.9"
  },
  "toc": {
   "base_numbering": 1,
   "nav_menu": {},
   "number_sections": true,
   "sideBar": true,
   "skip_h1_title": true,
   "title_cell": "Table of Contents",
   "title_sidebar": "Contents",
   "toc_cell": false,
   "toc_position": {},
   "toc_section_display": true,
   "toc_window_display": true
  }
 },
 "nbformat": 4,
 "nbformat_minor": 5
}
