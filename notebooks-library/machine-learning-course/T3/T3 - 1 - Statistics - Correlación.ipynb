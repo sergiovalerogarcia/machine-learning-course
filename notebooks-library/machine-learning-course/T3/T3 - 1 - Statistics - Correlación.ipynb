{
 "cells": [
  {
   "cell_type": "code",
   "execution_count": 43,
   "id": "fab9135a",
   "metadata": {},
   "outputs": [],
   "source": [
    "import pandas as pd\n",
    "import numpy as np"
   ]
  },
  {
   "cell_type": "code",
   "execution_count": 44,
   "id": "9bdd40d2",
   "metadata": {},
   "outputs": [],
   "source": [
    "data_ads = pd.read_csv(\"/notebooks/data/python-ml-course/datasets/ads/Advertising.csv\")"
   ]
  },
  {
   "cell_type": "code",
   "execution_count": 45,
   "id": "4c2baf08",
   "metadata": {},
   "outputs": [
    {
     "data": {
      "text/html": [
       "<div>\n",
       "<style scoped>\n",
       "    .dataframe tbody tr th:only-of-type {\n",
       "        vertical-align: middle;\n",
       "    }\n",
       "\n",
       "    .dataframe tbody tr th {\n",
       "        vertical-align: top;\n",
       "    }\n",
       "\n",
       "    .dataframe thead th {\n",
       "        text-align: right;\n",
       "    }\n",
       "</style>\n",
       "<table border=\"1\" class=\"dataframe\">\n",
       "  <thead>\n",
       "    <tr style=\"text-align: right;\">\n",
       "      <th></th>\n",
       "      <th>TV</th>\n",
       "      <th>Radio</th>\n",
       "      <th>Newspaper</th>\n",
       "      <th>Sales</th>\n",
       "    </tr>\n",
       "  </thead>\n",
       "  <tbody>\n",
       "    <tr>\n",
       "      <th>0</th>\n",
       "      <td>230.1</td>\n",
       "      <td>37.8</td>\n",
       "      <td>69.2</td>\n",
       "      <td>22.1</td>\n",
       "    </tr>\n",
       "    <tr>\n",
       "      <th>1</th>\n",
       "      <td>44.5</td>\n",
       "      <td>39.3</td>\n",
       "      <td>45.1</td>\n",
       "      <td>10.4</td>\n",
       "    </tr>\n",
       "    <tr>\n",
       "      <th>2</th>\n",
       "      <td>17.2</td>\n",
       "      <td>45.9</td>\n",
       "      <td>69.3</td>\n",
       "      <td>9.3</td>\n",
       "    </tr>\n",
       "    <tr>\n",
       "      <th>3</th>\n",
       "      <td>151.5</td>\n",
       "      <td>41.3</td>\n",
       "      <td>58.5</td>\n",
       "      <td>18.5</td>\n",
       "    </tr>\n",
       "    <tr>\n",
       "      <th>4</th>\n",
       "      <td>180.8</td>\n",
       "      <td>10.8</td>\n",
       "      <td>58.4</td>\n",
       "      <td>12.9</td>\n",
       "    </tr>\n",
       "  </tbody>\n",
       "</table>\n",
       "</div>"
      ],
      "text/plain": [
       "      TV  Radio  Newspaper  Sales\n",
       "0  230.1   37.8       69.2   22.1\n",
       "1   44.5   39.3       45.1   10.4\n",
       "2   17.2   45.9       69.3    9.3\n",
       "3  151.5   41.3       58.5   18.5\n",
       "4  180.8   10.8       58.4   12.9"
      ]
     },
     "execution_count": 45,
     "metadata": {},
     "output_type": "execute_result"
    }
   ],
   "source": [
    "data_ads.head()"
   ]
  },
  {
   "cell_type": "code",
   "execution_count": 62,
   "id": "0f0d5323",
   "metadata": {},
   "outputs": [],
   "source": [
    "data_ads[\"All_Ads\"] = data_ads[\"TV\"] + data_ads[\"Radio\"] + data_ads[\"Newspaper\"]"
   ]
  },
  {
   "cell_type": "code",
   "execution_count": 63,
   "id": "748d81d0",
   "metadata": {},
   "outputs": [
    {
     "data": {
      "text/html": [
       "<div>\n",
       "<style scoped>\n",
       "    .dataframe tbody tr th:only-of-type {\n",
       "        vertical-align: middle;\n",
       "    }\n",
       "\n",
       "    .dataframe tbody tr th {\n",
       "        vertical-align: top;\n",
       "    }\n",
       "\n",
       "    .dataframe thead th {\n",
       "        text-align: right;\n",
       "    }\n",
       "</style>\n",
       "<table border=\"1\" class=\"dataframe\">\n",
       "  <thead>\n",
       "    <tr style=\"text-align: right;\">\n",
       "      <th></th>\n",
       "      <th>TV</th>\n",
       "      <th>Radio</th>\n",
       "      <th>Newspaper</th>\n",
       "      <th>Sales</th>\n",
       "      <th>All_Ads</th>\n",
       "    </tr>\n",
       "  </thead>\n",
       "  <tbody>\n",
       "    <tr>\n",
       "      <th>0</th>\n",
       "      <td>230.1</td>\n",
       "      <td>37.8</td>\n",
       "      <td>69.2</td>\n",
       "      <td>22.1</td>\n",
       "      <td>337.1</td>\n",
       "    </tr>\n",
       "    <tr>\n",
       "      <th>1</th>\n",
       "      <td>44.5</td>\n",
       "      <td>39.3</td>\n",
       "      <td>45.1</td>\n",
       "      <td>10.4</td>\n",
       "      <td>128.9</td>\n",
       "    </tr>\n",
       "    <tr>\n",
       "      <th>2</th>\n",
       "      <td>17.2</td>\n",
       "      <td>45.9</td>\n",
       "      <td>69.3</td>\n",
       "      <td>9.3</td>\n",
       "      <td>132.4</td>\n",
       "    </tr>\n",
       "    <tr>\n",
       "      <th>3</th>\n",
       "      <td>151.5</td>\n",
       "      <td>41.3</td>\n",
       "      <td>58.5</td>\n",
       "      <td>18.5</td>\n",
       "      <td>251.3</td>\n",
       "    </tr>\n",
       "    <tr>\n",
       "      <th>4</th>\n",
       "      <td>180.8</td>\n",
       "      <td>10.8</td>\n",
       "      <td>58.4</td>\n",
       "      <td>12.9</td>\n",
       "      <td>250.0</td>\n",
       "    </tr>\n",
       "  </tbody>\n",
       "</table>\n",
       "</div>"
      ],
      "text/plain": [
       "      TV  Radio  Newspaper  Sales  All_Ads\n",
       "0  230.1   37.8       69.2   22.1    337.1\n",
       "1   44.5   39.3       45.1   10.4    128.9\n",
       "2   17.2   45.9       69.3    9.3    132.4\n",
       "3  151.5   41.3       58.5   18.5    251.3\n",
       "4  180.8   10.8       58.4   12.9    250.0"
      ]
     },
     "execution_count": 63,
     "metadata": {},
     "output_type": "execute_result"
    }
   ],
   "source": [
    "data_ads.head()"
   ]
  },
  {
   "cell_type": "code",
   "execution_count": 64,
   "id": "74d53992",
   "metadata": {},
   "outputs": [],
   "source": [
    "def corr_coeff(df_orig, var1, var2):\n",
    "    df = df_orig.copy()\n",
    "    df[\"corrn\"] = (df[var1] - np.mean(df[var1])) * \\\n",
    "        (df[var2] - np.mean(df[var2]))\n",
    "    df[\"corr1\"] = (df[var1] - np.mean(df[var1])) ** 2\n",
    "    df[\"corr2\"] = (df[var2] - np.mean(df[var2])) ** 2\n",
    "    corr_pearson = sum(df[\"corrn\"]) / np.sqrt(sum(df[\"corr1\"]) * sum(df[\"corr2\"]))\n",
    "    return corr_pearson"
   ]
  },
  {
   "cell_type": "code",
   "execution_count": 65,
   "id": "58ed9460",
   "metadata": {},
   "outputs": [
    {
     "data": {
      "text/plain": [
       "array(['TV', 'Radio', 'Newspaper', 'Sales', 'All_Ads'], dtype=object)"
      ]
     },
     "execution_count": 65,
     "metadata": {},
     "output_type": "execute_result"
    }
   ],
   "source": [
    "cols = data_ads.columns.values\n",
    "cols"
   ]
  },
  {
   "cell_type": "code",
   "execution_count": 66,
   "id": "5efc5737",
   "metadata": {
    "scrolled": true
   },
   "outputs": [
    {
     "data": {
      "text/plain": [
       "0.782224424861606"
      ]
     },
     "execution_count": 66,
     "metadata": {},
     "output_type": "execute_result"
    }
   ],
   "source": [
    "corr_coeff(data_ads, \"TV\", \"Sales\")"
   ]
  },
  {
   "cell_type": "code",
   "execution_count": 67,
   "id": "b03754d8",
   "metadata": {},
   "outputs": [
    {
     "name": "stdout",
     "output_type": "stream",
     "text": [
      "TV, TV: 1.0\n",
      "TV, Radio: 0.05480866446583006\n",
      "TV, Newspaper: 0.056647874965056993\n",
      "TV, Sales: 0.782224424861606\n",
      "TV, All_Ads: 0.9453300206840656\n",
      "Radio, TV: 0.05480866446583006\n",
      "Radio, Radio: 1.0\n",
      "Radio, Newspaper: 0.35410375076117545\n",
      "Radio, Sales: 0.576222574571055\n",
      "Radio, All_Ads: 0.2932107714427082\n",
      "Newspaper, TV: 0.056647874965056993\n",
      "Newspaper, Radio: 0.35410375076117545\n",
      "Newspaper, Newspaper: 1.0\n",
      "Newspaper, Sales: 0.22829902637616534\n",
      "Newspaper, All_Ads: 0.3430588777400548\n",
      "Sales, TV: 0.782224424861606\n",
      "Sales, Radio: 0.576222574571055\n",
      "Sales, Newspaper: 0.22829902637616534\n",
      "Sales, Sales: 1.0\n",
      "Sales, All_Ads: 0.8677123027017428\n",
      "All_Ads, TV: 0.9453300206840656\n",
      "All_Ads, Radio: 0.2932107714427082\n",
      "All_Ads, Newspaper: 0.3430588777400548\n",
      "All_Ads, Sales: 0.8677123027017428\n",
      "All_Ads, All_Ads: 1.0\n"
     ]
    }
   ],
   "source": [
    "for x in cols:\n",
    "    for y in cols:\n",
    "         print(x + \", \" + y + \": \" + str(corr_coeff(data_ads, x, y)))"
   ]
  },
  {
   "cell_type": "code",
   "execution_count": 68,
   "id": "5c45139c",
   "metadata": {},
   "outputs": [],
   "source": [
    "import matplotlib.pyplot as plt"
   ]
  },
  {
   "cell_type": "code",
   "execution_count": 75,
   "id": "639918af",
   "metadata": {},
   "outputs": [
    {
     "data": {
      "text/plain": [
       "Text(0.5, 1.0, 'Gasto en TV vs Ventas de Producto')"
      ]
     },
     "execution_count": 75,
     "metadata": {},
     "output_type": "execute_result"
    },
    {
     "data": {
      "image/png": "[encoded data removed]",
      "text/plain": [
       "<Figure size 432x288 with 1 Axes>"
      ]
     },
     "metadata": {
      "needs_background": "light"
     },
     "output_type": "display_data"
    }
   ],
   "source": [
    "plt.plot(data_ads[\"TV\"], data_ads[\"Sales\"], \"ro\")\n",
    "plt.title(\"Gasto en TV vs Ventas de Producto\")"
   ]
  },
  {
   "cell_type": "code",
   "execution_count": 76,
   "id": "2c9d95cf",
   "metadata": {},
   "outputs": [
    {
     "data": {
      "text/plain": [
       "Text(0.5, 1.0, 'Gasto en Radio vs Ventas de Producto')"
      ]
     },
     "execution_count": 76,
     "metadata": {},
     "output_type": "execute_result"
    },
    {
     "data": {
      "image/png": "[encoded data removed]",
      "text/plain": [
       "<Figure size 432x288 with 1 Axes>"
      ]
     },
     "metadata": {
      "needs_background": "light"
     },
     "output_type": "display_data"
    }
   ],
   "source": [
    "plt.plot(data_ads[\"Radio\"], data_ads[\"Sales\"], \"go\")\n",
    "plt.title(\"Gasto en Radio vs Ventas de Producto\")"
   ]
  },
  {
   "cell_type": "code",
   "execution_count": 78,
   "id": "7bd8cdcf",
   "metadata": {},
   "outputs": [
    {
     "data": {
      "text/plain": [
       "Text(0.5, 1.0, 'Gasto en Newspaper vs Ventas de Producto')"
      ]
     },
     "execution_count": 78,
     "metadata": {},
     "output_type": "execute_result"
    },
    {
     "data": {
      "image/png": "[encoded data removed]",
      "text/plain": [
       "<Figure size 432x288 with 1 Axes>"
      ]
     },
     "metadata": {
      "needs_background": "light"
     },
     "output_type": "display_data"
    }
   ],
   "source": [
    "plt.plot(data_ads[\"Newspaper\"], data_ads[\"Sales\"], \"bo\")\n",
    "plt.title(\"Gasto en Newspaper vs Ventas de Producto\")"
   ]
  },
  {
   "cell_type": "code",
   "execution_count": 79,
   "id": "1799da83",
   "metadata": {},
   "outputs": [
    {
     "data": {
      "text/plain": [
       "Text(0.5, 1.0, 'Gasto en All_Ads vs Ventas de Producto')"
      ]
     },
     "execution_count": 79,
     "metadata": {},
     "output_type": "execute_result"
    },
    {
     "data": {
      "image/png": "[encoded data removed]",
      "text/plain": [
       "<Figure size 432x288 with 1 Axes>"
      ]
     },
     "metadata": {
      "needs_background": "light"
     },
     "output_type": "display_data"
    }
   ],
   "source": [
    "plt.plot(data_ads[\"All_Ads\"], data_ads[\"Sales\"], \"yo\")\n",
    "plt.title(\"Gasto en All_Ads vs Ventas de Producto\")"
   ]
  },
  {
   "cell_type": "code",
   "execution_count": 80,
   "id": "58acf60a",
   "metadata": {},
   "outputs": [
    {
     "data": {
      "text/html": [
       "<div>\n",
       "<style scoped>\n",
       "    .dataframe tbody tr th:only-of-type {\n",
       "        vertical-align: middle;\n",
       "    }\n",
       "\n",
       "    .dataframe tbody tr th {\n",
       "        vertical-align: top;\n",
       "    }\n",
       "\n",
       "    .dataframe thead th {\n",
       "        text-align: right;\n",
       "    }\n",
       "</style>\n",
       "<table border=\"1\" class=\"dataframe\">\n",
       "  <thead>\n",
       "    <tr style=\"text-align: right;\">\n",
       "      <th></th>\n",
       "      <th>TV</th>\n",
       "      <th>Radio</th>\n",
       "      <th>Newspaper</th>\n",
       "      <th>Sales</th>\n",
       "      <th>All_Ads</th>\n",
       "    </tr>\n",
       "  </thead>\n",
       "  <tbody>\n",
       "    <tr>\n",
       "      <th>TV</th>\n",
       "      <td>1.000000</td>\n",
       "      <td>0.054809</td>\n",
       "      <td>0.056648</td>\n",
       "      <td>0.782224</td>\n",
       "      <td>0.945330</td>\n",
       "    </tr>\n",
       "    <tr>\n",
       "      <th>Radio</th>\n",
       "      <td>0.054809</td>\n",
       "      <td>1.000000</td>\n",
       "      <td>0.354104</td>\n",
       "      <td>0.576223</td>\n",
       "      <td>0.293211</td>\n",
       "    </tr>\n",
       "    <tr>\n",
       "      <th>Newspaper</th>\n",
       "      <td>0.056648</td>\n",
       "      <td>0.354104</td>\n",
       "      <td>1.000000</td>\n",
       "      <td>0.228299</td>\n",
       "      <td>0.343059</td>\n",
       "    </tr>\n",
       "    <tr>\n",
       "      <th>Sales</th>\n",
       "      <td>0.782224</td>\n",
       "      <td>0.576223</td>\n",
       "      <td>0.228299</td>\n",
       "      <td>1.000000</td>\n",
       "      <td>0.867712</td>\n",
       "    </tr>\n",
       "    <tr>\n",
       "      <th>All_Ads</th>\n",
       "      <td>0.945330</td>\n",
       "      <td>0.293211</td>\n",
       "      <td>0.343059</td>\n",
       "      <td>0.867712</td>\n",
       "      <td>1.000000</td>\n",
       "    </tr>\n",
       "  </tbody>\n",
       "</table>\n",
       "</div>"
      ],
      "text/plain": [
       "                 TV     Radio  Newspaper     Sales   All_Ads\n",
       "TV         1.000000  0.054809   0.056648  0.782224  0.945330\n",
       "Radio      0.054809  1.000000   0.354104  0.576223  0.293211\n",
       "Newspaper  0.056648  0.354104   1.000000  0.228299  0.343059\n",
       "Sales      0.782224  0.576223   0.228299  1.000000  0.867712\n",
       "All_Ads    0.945330  0.293211   0.343059  0.867712  1.000000"
      ]
     },
     "execution_count": 80,
     "metadata": {},
     "output_type": "execute_result"
    }
   ],
   "source": [
    "data_ads.corr()"
   ]
  },
  {
   "cell_type": "code",
   "execution_count": 81,
   "id": "7e37ae54",
   "metadata": {},
   "outputs": [
    {
     "data": {
      "text/plain": [
       "<matplotlib.image.AxesImage at 0x7f0250532d90>"
      ]
     },
     "execution_count": 81,
     "metadata": {},
     "output_type": "execute_result"
    },
    {
     "data": {
      "image/png": "[encoded data removed]",
      "text/plain": [
       "<Figure size 288x288 with 1 Axes>"
      ]
     },
     "metadata": {
      "needs_background": "light"
     },
     "output_type": "display_data"
    }
   ],
   "source": [
    "plt.matshow(data_ads.corr())"
   ]
  }
 ],
 "metadata": {
  "kernelspec": {
   "display_name": "Python 3 (ipykernel)",
   "language": "python",
   "name": "python3"
  },
  "language_info": {
   "codemirror_mode": {
    "name": "ipython",
    "version": 3
   },
   "file_extension": ".py",
   "mimetype": "text/x-python",
   "name": "python",
   "nbconvert_exporter": "python",
   "pygments_lexer": "ipython3",
   "version": "3.7.12"
  }
 },
 "nbformat": 4,
 "nbformat_minor": 5
}
