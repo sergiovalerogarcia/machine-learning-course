{
 "cells": [
  {
   "cell_type": "markdown",
   "id": "placed-container",
   "metadata": {},
   "source": [
    "# 1 - Data Cleaning - Data Wrangling"
   ]
  },
  {
   "cell_type": "markdown",
   "id": "experienced-poison",
   "metadata": {
    "ExecuteTime": {
     "end_time": "2021-04-01T09:35:49.076791Z",
     "start_time": "2021-04-01T09:35:49.073300Z"
    }
   },
   "source": [
    "## Data Wrangling"
   ]
  },
  {
   "cell_type": "code",
   "execution_count": 3,
   "id": "increased-whole",
   "metadata": {
    "ExecuteTime": {
     "end_time": "2021-04-01T09:36:14.784632Z",
     "start_time": "2021-04-01T09:36:14.781762Z"
    }
   },
   "outputs": [],
   "source": [
    "import pandas as pd"
   ]
  },
  {
   "cell_type": "code",
   "execution_count": 15,
   "id": "existing-bristol",
   "metadata": {
    "ExecuteTime": {
     "end_time": "2021-04-01T09:38:10.787135Z",
     "start_time": "2021-04-01T09:38:10.763791Z"
    }
   },
   "outputs": [],
   "source": [
    "mainpath = '/workspaces/machine-learning-course/data/python-ml-course/datasets'\n",
    "folder = '/customer-churn-model'\n",
    "\n",
    "data = pd.read_csv(mainpath + folder + '/Customer Churn Model.txt')"
   ]
  },
  {
   "cell_type": "code",
   "execution_count": 27,
   "id": "english-realtor",
   "metadata": {
    "ExecuteTime": {
     "end_time": "2021-04-01T09:48:15.459019Z",
     "start_time": "2021-04-01T09:48:15.405717Z"
    }
   },
   "outputs": [
    {
     "data": {
      "text/html": [
       "<div>\n",
       "<style scoped>\n",
       "    .dataframe tbody tr th:only-of-type {\n",
       "        vertical-align: middle;\n",
       "    }\n",
       "\n",
       "    .dataframe tbody tr th {\n",
       "        vertical-align: top;\n",
       "    }\n",
       "\n",
       "    .dataframe thead th {\n",
       "        text-align: right;\n",
       "    }\n",
       "</style>\n",
       "<table border=\"1\" class=\"dataframe\">\n",
       "  <thead>\n",
       "    <tr style=\"text-align: right;\">\n",
       "      <th></th>\n",
       "      <th>State</th>\n",
       "      <th>Account Length</th>\n",
       "      <th>Area Code</th>\n",
       "      <th>Phone</th>\n",
       "      <th>Int'l Plan</th>\n",
       "      <th>VMail Plan</th>\n",
       "      <th>VMail Message</th>\n",
       "      <th>Day Mins</th>\n",
       "      <th>Day Calls</th>\n",
       "      <th>Day Charge</th>\n",
       "      <th>...</th>\n",
       "      <th>Eve Calls</th>\n",
       "      <th>Eve Charge</th>\n",
       "      <th>Night Mins</th>\n",
       "      <th>Night Calls</th>\n",
       "      <th>Night Charge</th>\n",
       "      <th>Intl Mins</th>\n",
       "      <th>Intl Calls</th>\n",
       "      <th>Intl Charge</th>\n",
       "      <th>CustServ Calls</th>\n",
       "      <th>Churn?</th>\n",
       "    </tr>\n",
       "  </thead>\n",
       "  <tbody>\n",
       "    <tr>\n",
       "      <th>0</th>\n",
       "      <td>KS</td>\n",
       "      <td>128</td>\n",
       "      <td>415</td>\n",
       "      <td>382-4657</td>\n",
       "      <td>no</td>\n",
       "      <td>yes</td>\n",
       "      <td>25</td>\n",
       "      <td>265.1</td>\n",
       "      <td>110</td>\n",
       "      <td>45.07</td>\n",
       "      <td>...</td>\n",
       "      <td>99</td>\n",
       "      <td>16.78</td>\n",
       "      <td>244.7</td>\n",
       "      <td>91</td>\n",
       "      <td>11.01</td>\n",
       "      <td>10.0</td>\n",
       "      <td>3</td>\n",
       "      <td>2.70</td>\n",
       "      <td>1</td>\n",
       "      <td>False.</td>\n",
       "    </tr>\n",
       "    <tr>\n",
       "      <th>1</th>\n",
       "      <td>OH</td>\n",
       "      <td>107</td>\n",
       "      <td>415</td>\n",
       "      <td>371-7191</td>\n",
       "      <td>no</td>\n",
       "      <td>yes</td>\n",
       "      <td>26</td>\n",
       "      <td>161.6</td>\n",
       "      <td>123</td>\n",
       "      <td>27.47</td>\n",
       "      <td>...</td>\n",
       "      <td>103</td>\n",
       "      <td>16.62</td>\n",
       "      <td>254.4</td>\n",
       "      <td>103</td>\n",
       "      <td>11.45</td>\n",
       "      <td>13.7</td>\n",
       "      <td>3</td>\n",
       "      <td>3.70</td>\n",
       "      <td>1</td>\n",
       "      <td>False.</td>\n",
       "    </tr>\n",
       "    <tr>\n",
       "      <th>2</th>\n",
       "      <td>NJ</td>\n",
       "      <td>137</td>\n",
       "      <td>415</td>\n",
       "      <td>358-1921</td>\n",
       "      <td>no</td>\n",
       "      <td>no</td>\n",
       "      <td>0</td>\n",
       "      <td>243.4</td>\n",
       "      <td>114</td>\n",
       "      <td>41.38</td>\n",
       "      <td>...</td>\n",
       "      <td>110</td>\n",
       "      <td>10.30</td>\n",
       "      <td>162.6</td>\n",
       "      <td>104</td>\n",
       "      <td>7.32</td>\n",
       "      <td>12.2</td>\n",
       "      <td>5</td>\n",
       "      <td>3.29</td>\n",
       "      <td>0</td>\n",
       "      <td>False.</td>\n",
       "    </tr>\n",
       "    <tr>\n",
       "      <th>3</th>\n",
       "      <td>OH</td>\n",
       "      <td>84</td>\n",
       "      <td>408</td>\n",
       "      <td>375-9999</td>\n",
       "      <td>yes</td>\n",
       "      <td>no</td>\n",
       "      <td>0</td>\n",
       "      <td>299.4</td>\n",
       "      <td>71</td>\n",
       "      <td>50.90</td>\n",
       "      <td>...</td>\n",
       "      <td>88</td>\n",
       "      <td>5.26</td>\n",
       "      <td>196.9</td>\n",
       "      <td>89</td>\n",
       "      <td>8.86</td>\n",
       "      <td>6.6</td>\n",
       "      <td>7</td>\n",
       "      <td>1.78</td>\n",
       "      <td>2</td>\n",
       "      <td>False.</td>\n",
       "    </tr>\n",
       "    <tr>\n",
       "      <th>4</th>\n",
       "      <td>OK</td>\n",
       "      <td>75</td>\n",
       "      <td>415</td>\n",
       "      <td>330-6626</td>\n",
       "      <td>yes</td>\n",
       "      <td>no</td>\n",
       "      <td>0</td>\n",
       "      <td>166.7</td>\n",
       "      <td>113</td>\n",
       "      <td>28.34</td>\n",
       "      <td>...</td>\n",
       "      <td>122</td>\n",
       "      <td>12.61</td>\n",
       "      <td>186.9</td>\n",
       "      <td>121</td>\n",
       "      <td>8.41</td>\n",
       "      <td>10.1</td>\n",
       "      <td>3</td>\n",
       "      <td>2.73</td>\n",
       "      <td>3</td>\n",
       "      <td>False.</td>\n",
       "    </tr>\n",
       "  </tbody>\n",
       "</table>\n",
       "<p>5 rows × 21 columns</p>\n",
       "</div>"
      ],
      "text/plain": [
       "  State  Account Length  Area Code     Phone Int'l Plan VMail Plan  \\\n",
       "0    KS             128        415  382-4657         no        yes   \n",
       "1    OH             107        415  371-7191         no        yes   \n",
       "2    NJ             137        415  358-1921         no         no   \n",
       "3    OH              84        408  375-9999        yes         no   \n",
       "4    OK              75        415  330-6626        yes         no   \n",
       "\n",
       "   VMail Message  Day Mins  Day Calls  Day Charge  ...  Eve Calls  Eve Charge  \\\n",
       "0             25     265.1        110       45.07  ...         99       16.78   \n",
       "1             26     161.6        123       27.47  ...        103       16.62   \n",
       "2              0     243.4        114       41.38  ...        110       10.30   \n",
       "3              0     299.4         71       50.90  ...         88        5.26   \n",
       "4              0     166.7        113       28.34  ...        122       12.61   \n",
       "\n",
       "   Night Mins  Night Calls  Night Charge  Intl Mins  Intl Calls  Intl Charge  \\\n",
       "0       244.7           91         11.01       10.0           3         2.70   \n",
       "1       254.4          103         11.45       13.7           3         3.70   \n",
       "2       162.6          104          7.32       12.2           5         3.29   \n",
       "3       196.9           89          8.86        6.6           7         1.78   \n",
       "4       186.9          121          8.41       10.1           3         2.73   \n",
       "\n",
       "   CustServ Calls  Churn?  \n",
       "0               1  False.  \n",
       "1               1  False.  \n",
       "2               0  False.  \n",
       "3               2  False.  \n",
       "4               3  False.  \n",
       "\n",
       "[5 rows x 21 columns]"
      ]
     },
     "execution_count": 27,
     "metadata": {},
     "output_type": "execute_result"
    }
   ],
   "source": [
    "data.head()"
   ]
  },
  {
   "cell_type": "markdown",
   "id": "sapphire-vacation",
   "metadata": {
    "ExecuteTime": {
     "end_time": "2021-04-01T09:38:31.439271Z",
     "start_time": "2021-04-01T09:38:31.436662Z"
    }
   },
   "source": [
    "# Crear un subconjunto de datos"
   ]
  },
  {
   "cell_type": "code",
   "execution_count": 32,
   "id": "russian-juice",
   "metadata": {
    "ExecuteTime": {
     "end_time": "2021-04-01T09:49:09.475751Z",
     "start_time": "2021-04-01T09:49:09.468097Z"
    }
   },
   "outputs": [
    {
     "data": {
      "text/plain": [
       "0       128\n",
       "1       107\n",
       "2       137\n",
       "3        84\n",
       "4        75\n",
       "       ... \n",
       "3328    192\n",
       "3329     68\n",
       "3330     28\n",
       "3331    184\n",
       "3332     74\n",
       "Name: Account Length, Length: 3333, dtype: int64"
      ]
     },
     "execution_count": 32,
     "metadata": {},
     "output_type": "execute_result"
    }
   ],
   "source": [
    "data[\"Account Length\"]"
   ]
  },
  {
   "cell_type": "code",
   "execution_count": 33,
   "id": "different-brave",
   "metadata": {
    "ExecuteTime": {
     "end_time": "2021-04-01T09:49:38.380252Z",
     "start_time": "2021-04-01T09:49:38.354065Z"
    }
   },
   "outputs": [
    {
     "data": {
      "text/html": [
       "<div>\n",
       "<style scoped>\n",
       "    .dataframe tbody tr th:only-of-type {\n",
       "        vertical-align: middle;\n",
       "    }\n",
       "\n",
       "    .dataframe tbody tr th {\n",
       "        vertical-align: top;\n",
       "    }\n",
       "\n",
       "    .dataframe thead th {\n",
       "        text-align: right;\n",
       "    }\n",
       "</style>\n",
       "<table border=\"1\" class=\"dataframe\">\n",
       "  <thead>\n",
       "    <tr style=\"text-align: right;\">\n",
       "      <th></th>\n",
       "      <th>Account Length</th>\n",
       "      <th>Phone</th>\n",
       "      <th>Eve Charge</th>\n",
       "      <th>Day Calls</th>\n",
       "    </tr>\n",
       "  </thead>\n",
       "  <tbody>\n",
       "    <tr>\n",
       "      <th>0</th>\n",
       "      <td>128</td>\n",
       "      <td>382-4657</td>\n",
       "      <td>16.78</td>\n",
       "      <td>110</td>\n",
       "    </tr>\n",
       "    <tr>\n",
       "      <th>1</th>\n",
       "      <td>107</td>\n",
       "      <td>371-7191</td>\n",
       "      <td>16.62</td>\n",
       "      <td>123</td>\n",
       "    </tr>\n",
       "    <tr>\n",
       "      <th>2</th>\n",
       "      <td>137</td>\n",
       "      <td>358-1921</td>\n",
       "      <td>10.30</td>\n",
       "      <td>114</td>\n",
       "    </tr>\n",
       "    <tr>\n",
       "      <th>3</th>\n",
       "      <td>84</td>\n",
       "      <td>375-9999</td>\n",
       "      <td>5.26</td>\n",
       "      <td>71</td>\n",
       "    </tr>\n",
       "    <tr>\n",
       "      <th>4</th>\n",
       "      <td>75</td>\n",
       "      <td>330-6626</td>\n",
       "      <td>12.61</td>\n",
       "      <td>113</td>\n",
       "    </tr>\n",
       "    <tr>\n",
       "      <th>...</th>\n",
       "      <td>...</td>\n",
       "      <td>...</td>\n",
       "      <td>...</td>\n",
       "      <td>...</td>\n",
       "    </tr>\n",
       "    <tr>\n",
       "      <th>3328</th>\n",
       "      <td>192</td>\n",
       "      <td>414-4276</td>\n",
       "      <td>18.32</td>\n",
       "      <td>77</td>\n",
       "    </tr>\n",
       "    <tr>\n",
       "      <th>3329</th>\n",
       "      <td>68</td>\n",
       "      <td>370-3271</td>\n",
       "      <td>13.04</td>\n",
       "      <td>57</td>\n",
       "    </tr>\n",
       "    <tr>\n",
       "      <th>3330</th>\n",
       "      <td>28</td>\n",
       "      <td>328-8230</td>\n",
       "      <td>24.55</td>\n",
       "      <td>109</td>\n",
       "    </tr>\n",
       "    <tr>\n",
       "      <th>3331</th>\n",
       "      <td>184</td>\n",
       "      <td>364-6381</td>\n",
       "      <td>13.57</td>\n",
       "      <td>105</td>\n",
       "    </tr>\n",
       "    <tr>\n",
       "      <th>3332</th>\n",
       "      <td>74</td>\n",
       "      <td>400-4344</td>\n",
       "      <td>22.60</td>\n",
       "      <td>113</td>\n",
       "    </tr>\n",
       "  </tbody>\n",
       "</table>\n",
       "<p>3333 rows × 4 columns</p>\n",
       "</div>"
      ],
      "text/plain": [
       "      Account Length     Phone  Eve Charge  Day Calls\n",
       "0                128  382-4657       16.78        110\n",
       "1                107  371-7191       16.62        123\n",
       "2                137  358-1921       10.30        114\n",
       "3                 84  375-9999        5.26         71\n",
       "4                 75  330-6626       12.61        113\n",
       "...              ...       ...         ...        ...\n",
       "3328             192  414-4276       18.32         77\n",
       "3329              68  370-3271       13.04         57\n",
       "3330              28  328-8230       24.55        109\n",
       "3331             184  364-6381       13.57        105\n",
       "3332              74  400-4344       22.60        113\n",
       "\n",
       "[3333 rows x 4 columns]"
      ]
     },
     "execution_count": 33,
     "metadata": {},
     "output_type": "execute_result"
    }
   ],
   "source": [
    "data[[\"Account Length\",\"Phone\",\"Eve Charge\",\"Day Calls\"]]"
   ]
  },
  {
   "cell_type": "code",
   "execution_count": 38,
   "id": "surprising-nevada",
   "metadata": {
    "ExecuteTime": {
     "end_time": "2021-04-01T09:54:58.452867Z",
     "start_time": "2021-04-01T09:54:58.449509Z"
    }
   },
   "outputs": [],
   "source": [
    "desired_columns = [\"Account Length\",\"Phone\",\"Eve Charge\",\"Day Calls\"]\n",
    "all_columns_list = data.columns.values.tolist()"
   ]
  },
  {
   "cell_type": "code",
   "execution_count": 39,
   "id": "exterior-imaging",
   "metadata": {
    "ExecuteTime": {
     "end_time": "2021-04-01T09:54:59.410173Z",
     "start_time": "2021-04-01T09:54:59.392921Z"
    },
    "scrolled": true
   },
   "outputs": [
    {
     "data": {
      "text/plain": [
       "['State',\n",
       " 'Area Code',\n",
       " \"Int'l Plan\",\n",
       " 'VMail Plan',\n",
       " 'VMail Message',\n",
       " 'Day Mins',\n",
       " 'Day Charge',\n",
       " 'Eve Mins',\n",
       " 'Eve Calls',\n",
       " 'Night Mins',\n",
       " 'Night Calls',\n",
       " 'Night Charge',\n",
       " 'Intl Mins',\n",
       " 'Intl Calls',\n",
       " 'Intl Charge',\n",
       " 'CustServ Calls',\n",
       " 'Churn?']"
      ]
     },
     "execution_count": 39,
     "metadata": {},
     "output_type": "execute_result"
    }
   ],
   "source": [
    "sublist = [x for x in all_columns_list if x not in desired_columns]\n",
    "sublist"
   ]
  },
  {
   "cell_type": "code",
   "execution_count": 43,
   "id": "enclosed-trademark",
   "metadata": {
    "ExecuteTime": {
     "end_time": "2021-04-01T09:55:10.800616Z",
     "start_time": "2021-04-01T09:55:10.786009Z"
    }
   },
   "outputs": [
    {
     "data": {
      "text/plain": [
       "['VMail Plan',\n",
       " 'VMail Message',\n",
       " 'Day Charge',\n",
       " 'Night Charge',\n",
       " 'CustServ Calls',\n",
       " 'Churn?',\n",
       " 'Night Mins',\n",
       " 'Intl Mins',\n",
       " 'Area Code',\n",
       " 'State',\n",
       " \"Int'l Plan\",\n",
       " 'Eve Mins',\n",
       " 'Night Calls',\n",
       " 'Eve Calls',\n",
       " 'Day Mins',\n",
       " 'Intl Calls',\n",
       " 'Intl Charge']"
      ]
     },
     "execution_count": 43,
     "metadata": {},
     "output_type": "execute_result"
    }
   ],
   "source": [
    "a = set(desired_columns)\n",
    "b = set(all_columns_list)\n",
    "sublist = b-a\n",
    "sublist = list(sublist)\n",
    "sublist"
   ]
  },
  {
   "cell_type": "code",
   "execution_count": 47,
   "id": "isolated-thickness",
   "metadata": {
    "ExecuteTime": {
     "end_time": "2021-04-01T09:56:17.391264Z",
     "start_time": "2021-04-01T09:56:17.353812Z"
    },
    "scrolled": true
   },
   "outputs": [
    {
     "data": {
      "text/html": [
       "<div>\n",
       "<style scoped>\n",
       "    .dataframe tbody tr th:only-of-type {\n",
       "        vertical-align: middle;\n",
       "    }\n",
       "\n",
       "    .dataframe tbody tr th {\n",
       "        vertical-align: top;\n",
       "    }\n",
       "\n",
       "    .dataframe thead th {\n",
       "        text-align: right;\n",
       "    }\n",
       "</style>\n",
       "<table border=\"1\" class=\"dataframe\">\n",
       "  <thead>\n",
       "    <tr style=\"text-align: right;\">\n",
       "      <th></th>\n",
       "      <th>State</th>\n",
       "      <th>Account Length</th>\n",
       "      <th>Area Code</th>\n",
       "      <th>Phone</th>\n",
       "      <th>Int'l Plan</th>\n",
       "      <th>VMail Plan</th>\n",
       "      <th>VMail Message</th>\n",
       "      <th>Day Mins</th>\n",
       "      <th>Day Calls</th>\n",
       "      <th>Day Charge</th>\n",
       "      <th>...</th>\n",
       "      <th>Eve Calls</th>\n",
       "      <th>Eve Charge</th>\n",
       "      <th>Night Mins</th>\n",
       "      <th>Night Calls</th>\n",
       "      <th>Night Charge</th>\n",
       "      <th>Intl Mins</th>\n",
       "      <th>Intl Calls</th>\n",
       "      <th>Intl Charge</th>\n",
       "      <th>CustServ Calls</th>\n",
       "      <th>Churn?</th>\n",
       "    </tr>\n",
       "  </thead>\n",
       "  <tbody>\n",
       "    <tr>\n",
       "      <th>6</th>\n",
       "      <td>MA</td>\n",
       "      <td>121</td>\n",
       "      <td>510</td>\n",
       "      <td>355-9993</td>\n",
       "      <td>no</td>\n",
       "      <td>yes</td>\n",
       "      <td>24</td>\n",
       "      <td>218.2</td>\n",
       "      <td>88</td>\n",
       "      <td>37.09</td>\n",
       "      <td>...</td>\n",
       "      <td>108</td>\n",
       "      <td>29.62</td>\n",
       "      <td>212.6</td>\n",
       "      <td>118</td>\n",
       "      <td>9.57</td>\n",
       "      <td>7.5</td>\n",
       "      <td>7</td>\n",
       "      <td>2.03</td>\n",
       "      <td>3</td>\n",
       "      <td>False.</td>\n",
       "    </tr>\n",
       "    <tr>\n",
       "      <th>7</th>\n",
       "      <td>MO</td>\n",
       "      <td>147</td>\n",
       "      <td>415</td>\n",
       "      <td>329-9001</td>\n",
       "      <td>yes</td>\n",
       "      <td>no</td>\n",
       "      <td>0</td>\n",
       "      <td>157.0</td>\n",
       "      <td>79</td>\n",
       "      <td>26.69</td>\n",
       "      <td>...</td>\n",
       "      <td>94</td>\n",
       "      <td>8.76</td>\n",
       "      <td>211.8</td>\n",
       "      <td>96</td>\n",
       "      <td>9.53</td>\n",
       "      <td>7.1</td>\n",
       "      <td>6</td>\n",
       "      <td>1.92</td>\n",
       "      <td>0</td>\n",
       "      <td>False.</td>\n",
       "    </tr>\n",
       "    <tr>\n",
       "      <th>8</th>\n",
       "      <td>LA</td>\n",
       "      <td>117</td>\n",
       "      <td>408</td>\n",
       "      <td>335-4719</td>\n",
       "      <td>no</td>\n",
       "      <td>no</td>\n",
       "      <td>0</td>\n",
       "      <td>184.5</td>\n",
       "      <td>97</td>\n",
       "      <td>31.37</td>\n",
       "      <td>...</td>\n",
       "      <td>80</td>\n",
       "      <td>29.89</td>\n",
       "      <td>215.8</td>\n",
       "      <td>90</td>\n",
       "      <td>9.71</td>\n",
       "      <td>8.7</td>\n",
       "      <td>4</td>\n",
       "      <td>2.35</td>\n",
       "      <td>1</td>\n",
       "      <td>False.</td>\n",
       "    </tr>\n",
       "    <tr>\n",
       "      <th>9</th>\n",
       "      <td>WV</td>\n",
       "      <td>141</td>\n",
       "      <td>415</td>\n",
       "      <td>330-8173</td>\n",
       "      <td>yes</td>\n",
       "      <td>yes</td>\n",
       "      <td>37</td>\n",
       "      <td>258.6</td>\n",
       "      <td>84</td>\n",
       "      <td>43.96</td>\n",
       "      <td>...</td>\n",
       "      <td>111</td>\n",
       "      <td>18.87</td>\n",
       "      <td>326.4</td>\n",
       "      <td>97</td>\n",
       "      <td>14.69</td>\n",
       "      <td>11.2</td>\n",
       "      <td>5</td>\n",
       "      <td>3.02</td>\n",
       "      <td>0</td>\n",
       "      <td>False.</td>\n",
       "    </tr>\n",
       "  </tbody>\n",
       "</table>\n",
       "<p>4 rows × 21 columns</p>\n",
       "</div>"
      ],
      "text/plain": [
       "  State  Account Length  Area Code     Phone Int'l Plan VMail Plan  \\\n",
       "6    MA             121        510  355-9993         no        yes   \n",
       "7    MO             147        415  329-9001        yes         no   \n",
       "8    LA             117        408  335-4719         no         no   \n",
       "9    WV             141        415  330-8173        yes        yes   \n",
       "\n",
       "   VMail Message  Day Mins  Day Calls  Day Charge  ...  Eve Calls  Eve Charge  \\\n",
       "6             24     218.2         88       37.09  ...        108       29.62   \n",
       "7              0     157.0         79       26.69  ...         94        8.76   \n",
       "8              0     184.5         97       31.37  ...         80       29.89   \n",
       "9             37     258.6         84       43.96  ...        111       18.87   \n",
       "\n",
       "   Night Mins  Night Calls  Night Charge  Intl Mins  Intl Calls  Intl Charge  \\\n",
       "6       212.6          118          9.57        7.5           7         2.03   \n",
       "7       211.8           96          9.53        7.1           6         1.92   \n",
       "8       215.8           90          9.71        8.7           4         2.35   \n",
       "9       326.4           97         14.69       11.2           5         3.02   \n",
       "\n",
       "   CustServ Calls  Churn?  \n",
       "6               3  False.  \n",
       "7               0  False.  \n",
       "8               1  False.  \n",
       "9               0  False.  \n",
       "\n",
       "[4 rows x 21 columns]"
      ]
     },
     "execution_count": 47,
     "metadata": {},
     "output_type": "execute_result"
    }
   ],
   "source": [
    "data[6:10]"
   ]
  },
  {
   "cell_type": "markdown",
   "id": "juvenile-gauge",
   "metadata": {
    "ExecuteTime": {
     "end_time": "2021-04-01T09:57:07.306348Z",
     "start_time": "2021-04-01T09:57:07.296154Z"
    }
   },
   "source": [
    "## Filter"
   ]
  },
  {
   "cell_type": "code",
   "execution_count": 59,
   "id": "molecular-hungary",
   "metadata": {
    "ExecuteTime": {
     "end_time": "2021-04-01T10:00:01.743318Z",
     "start_time": "2021-04-01T10:00:01.635194Z"
    }
   },
   "outputs": [
    {
     "data": {
      "text/html": [
       "<div>\n",
       "<style scoped>\n",
       "    .dataframe tbody tr th:only-of-type {\n",
       "        vertical-align: middle;\n",
       "    }\n",
       "\n",
       "    .dataframe tbody tr th {\n",
       "        vertical-align: top;\n",
       "    }\n",
       "\n",
       "    .dataframe thead th {\n",
       "        text-align: right;\n",
       "    }\n",
       "</style>\n",
       "<table border=\"1\" class=\"dataframe\">\n",
       "  <thead>\n",
       "    <tr style=\"text-align: right;\">\n",
       "      <th></th>\n",
       "      <th>State</th>\n",
       "      <th>Account Length</th>\n",
       "      <th>Area Code</th>\n",
       "      <th>Phone</th>\n",
       "      <th>Int'l Plan</th>\n",
       "      <th>VMail Plan</th>\n",
       "      <th>VMail Message</th>\n",
       "      <th>Day Mins</th>\n",
       "      <th>Day Calls</th>\n",
       "      <th>Day Charge</th>\n",
       "      <th>...</th>\n",
       "      <th>Eve Calls</th>\n",
       "      <th>Eve Charge</th>\n",
       "      <th>Night Mins</th>\n",
       "      <th>Night Calls</th>\n",
       "      <th>Night Charge</th>\n",
       "      <th>Intl Mins</th>\n",
       "      <th>Intl Calls</th>\n",
       "      <th>Intl Charge</th>\n",
       "      <th>CustServ Calls</th>\n",
       "      <th>Churn?</th>\n",
       "    </tr>\n",
       "  </thead>\n",
       "  <tbody>\n",
       "    <tr>\n",
       "      <th>365</th>\n",
       "      <td>CO</td>\n",
       "      <td>154</td>\n",
       "      <td>415</td>\n",
       "      <td>343-5709</td>\n",
       "      <td>no</td>\n",
       "      <td>no</td>\n",
       "      <td>0</td>\n",
       "      <td>350.8</td>\n",
       "      <td>75</td>\n",
       "      <td>59.64</td>\n",
       "      <td>...</td>\n",
       "      <td>94</td>\n",
       "      <td>18.4</td>\n",
       "      <td>253.9</td>\n",
       "      <td>100</td>\n",
       "      <td>11.43</td>\n",
       "      <td>10.1</td>\n",
       "      <td>9</td>\n",
       "      <td>2.73</td>\n",
       "      <td>1</td>\n",
       "      <td>True.</td>\n",
       "    </tr>\n",
       "  </tbody>\n",
       "</table>\n",
       "<p>1 rows × 21 columns</p>\n",
       "</div>"
      ],
      "text/plain": [
       "    State  Account Length  Area Code     Phone Int'l Plan VMail Plan  \\\n",
       "365    CO             154        415  343-5709         no         no   \n",
       "\n",
       "     VMail Message  Day Mins  Day Calls  Day Charge  ...  Eve Calls  \\\n",
       "365              0     350.8         75       59.64  ...         94   \n",
       "\n",
       "     Eve Charge  Night Mins  Night Calls  Night Charge  Intl Mins  Intl Calls  \\\n",
       "365        18.4       253.9          100         11.43       10.1           9   \n",
       "\n",
       "     Intl Charge  CustServ Calls  Churn?  \n",
       "365         2.73               1   True.  \n",
       "\n",
       "[1 rows x 21 columns]"
      ]
     },
     "execution_count": 59,
     "metadata": {},
     "output_type": "execute_result"
    }
   ],
   "source": [
    "data[data[\"Day Mins\"]>350]"
   ]
  },
  {
   "cell_type": "code",
   "execution_count": 61,
   "id": "amber-foster",
   "metadata": {
    "ExecuteTime": {
     "end_time": "2021-04-01T10:00:58.334791Z",
     "start_time": "2021-04-01T10:00:58.286087Z"
    }
   },
   "outputs": [
    {
     "data": {
      "text/html": [
       "<div>\n",
       "<style scoped>\n",
       "    .dataframe tbody tr th:only-of-type {\n",
       "        vertical-align: middle;\n",
       "    }\n",
       "\n",
       "    .dataframe tbody tr th {\n",
       "        vertical-align: top;\n",
       "    }\n",
       "\n",
       "    .dataframe thead th {\n",
       "        text-align: right;\n",
       "    }\n",
       "</style>\n",
       "<table border=\"1\" class=\"dataframe\">\n",
       "  <thead>\n",
       "    <tr style=\"text-align: right;\">\n",
       "      <th></th>\n",
       "      <th>State</th>\n",
       "      <th>Account Length</th>\n",
       "      <th>Area Code</th>\n",
       "      <th>Phone</th>\n",
       "      <th>Int'l Plan</th>\n",
       "      <th>VMail Plan</th>\n",
       "      <th>VMail Message</th>\n",
       "      <th>Day Mins</th>\n",
       "      <th>Day Calls</th>\n",
       "      <th>Day Charge</th>\n",
       "      <th>...</th>\n",
       "      <th>Eve Calls</th>\n",
       "      <th>Eve Charge</th>\n",
       "      <th>Night Mins</th>\n",
       "      <th>Night Calls</th>\n",
       "      <th>Night Charge</th>\n",
       "      <th>Intl Mins</th>\n",
       "      <th>Intl Calls</th>\n",
       "      <th>Intl Charge</th>\n",
       "      <th>CustServ Calls</th>\n",
       "      <th>Churn?</th>\n",
       "    </tr>\n",
       "  </thead>\n",
       "  <tbody>\n",
       "    <tr>\n",
       "      <th>15</th>\n",
       "      <td>NY</td>\n",
       "      <td>161</td>\n",
       "      <td>415</td>\n",
       "      <td>351-7269</td>\n",
       "      <td>no</td>\n",
       "      <td>no</td>\n",
       "      <td>0</td>\n",
       "      <td>332.9</td>\n",
       "      <td>67</td>\n",
       "      <td>56.59</td>\n",
       "      <td>...</td>\n",
       "      <td>97</td>\n",
       "      <td>27.01</td>\n",
       "      <td>160.6</td>\n",
       "      <td>128</td>\n",
       "      <td>7.23</td>\n",
       "      <td>5.4</td>\n",
       "      <td>9</td>\n",
       "      <td>1.46</td>\n",
       "      <td>4</td>\n",
       "      <td>True.</td>\n",
       "    </tr>\n",
       "    <tr>\n",
       "      <th>77</th>\n",
       "      <td>NY</td>\n",
       "      <td>144</td>\n",
       "      <td>408</td>\n",
       "      <td>360-1171</td>\n",
       "      <td>no</td>\n",
       "      <td>no</td>\n",
       "      <td>0</td>\n",
       "      <td>61.6</td>\n",
       "      <td>117</td>\n",
       "      <td>10.47</td>\n",
       "      <td>...</td>\n",
       "      <td>85</td>\n",
       "      <td>6.55</td>\n",
       "      <td>173.0</td>\n",
       "      <td>99</td>\n",
       "      <td>7.79</td>\n",
       "      <td>8.2</td>\n",
       "      <td>7</td>\n",
       "      <td>2.21</td>\n",
       "      <td>4</td>\n",
       "      <td>True.</td>\n",
       "    </tr>\n",
       "    <tr>\n",
       "      <th>136</th>\n",
       "      <td>NY</td>\n",
       "      <td>75</td>\n",
       "      <td>415</td>\n",
       "      <td>374-8525</td>\n",
       "      <td>no</td>\n",
       "      <td>yes</td>\n",
       "      <td>21</td>\n",
       "      <td>175.8</td>\n",
       "      <td>97</td>\n",
       "      <td>29.89</td>\n",
       "      <td>...</td>\n",
       "      <td>106</td>\n",
       "      <td>18.49</td>\n",
       "      <td>237.5</td>\n",
       "      <td>134</td>\n",
       "      <td>10.69</td>\n",
       "      <td>5.3</td>\n",
       "      <td>4</td>\n",
       "      <td>1.43</td>\n",
       "      <td>5</td>\n",
       "      <td>False.</td>\n",
       "    </tr>\n",
       "    <tr>\n",
       "      <th>182</th>\n",
       "      <td>NY</td>\n",
       "      <td>67</td>\n",
       "      <td>408</td>\n",
       "      <td>405-2888</td>\n",
       "      <td>no</td>\n",
       "      <td>yes</td>\n",
       "      <td>36</td>\n",
       "      <td>115.6</td>\n",
       "      <td>111</td>\n",
       "      <td>19.65</td>\n",
       "      <td>...</td>\n",
       "      <td>94</td>\n",
       "      <td>20.20</td>\n",
       "      <td>169.9</td>\n",
       "      <td>103</td>\n",
       "      <td>7.65</td>\n",
       "      <td>9.9</td>\n",
       "      <td>12</td>\n",
       "      <td>2.67</td>\n",
       "      <td>2</td>\n",
       "      <td>False.</td>\n",
       "    </tr>\n",
       "    <tr>\n",
       "      <th>186</th>\n",
       "      <td>NY</td>\n",
       "      <td>106</td>\n",
       "      <td>408</td>\n",
       "      <td>422-1471</td>\n",
       "      <td>no</td>\n",
       "      <td>no</td>\n",
       "      <td>0</td>\n",
       "      <td>158.7</td>\n",
       "      <td>74</td>\n",
       "      <td>26.98</td>\n",
       "      <td>...</td>\n",
       "      <td>139</td>\n",
       "      <td>5.47</td>\n",
       "      <td>198.5</td>\n",
       "      <td>103</td>\n",
       "      <td>8.93</td>\n",
       "      <td>10.2</td>\n",
       "      <td>4</td>\n",
       "      <td>2.75</td>\n",
       "      <td>1</td>\n",
       "      <td>False.</td>\n",
       "    </tr>\n",
       "  </tbody>\n",
       "</table>\n",
       "<p>5 rows × 21 columns</p>\n",
       "</div>"
      ],
      "text/plain": [
       "    State  Account Length  Area Code     Phone Int'l Plan VMail Plan  \\\n",
       "15     NY             161        415  351-7269         no         no   \n",
       "77     NY             144        408  360-1171         no         no   \n",
       "136    NY              75        415  374-8525         no        yes   \n",
       "182    NY              67        408  405-2888         no        yes   \n",
       "186    NY             106        408  422-1471         no         no   \n",
       "\n",
       "     VMail Message  Day Mins  Day Calls  Day Charge  ...  Eve Calls  \\\n",
       "15               0     332.9         67       56.59  ...         97   \n",
       "77               0      61.6        117       10.47  ...         85   \n",
       "136             21     175.8         97       29.89  ...        106   \n",
       "182             36     115.6        111       19.65  ...         94   \n",
       "186              0     158.7         74       26.98  ...        139   \n",
       "\n",
       "     Eve Charge  Night Mins  Night Calls  Night Charge  Intl Mins  Intl Calls  \\\n",
       "15        27.01       160.6          128          7.23        5.4           9   \n",
       "77         6.55       173.0           99          7.79        8.2           7   \n",
       "136       18.49       237.5          134         10.69        5.3           4   \n",
       "182       20.20       169.9          103          7.65        9.9          12   \n",
       "186        5.47       198.5          103          8.93       10.2           4   \n",
       "\n",
       "     Intl Charge  CustServ Calls  Churn?  \n",
       "15          1.46               4   True.  \n",
       "77          2.21               4   True.  \n",
       "136         1.43               5  False.  \n",
       "182         2.67               2  False.  \n",
       "186         2.75               1  False.  \n",
       "\n",
       "[5 rows x 21 columns]"
      ]
     },
     "execution_count": 61,
     "metadata": {},
     "output_type": "execute_result"
    }
   ],
   "source": [
    "data[data[\"State\"] == 'NY'].head()"
   ]
  },
  {
   "cell_type": "code",
   "execution_count": 63,
   "id": "equivalent-chart",
   "metadata": {
    "ExecuteTime": {
     "end_time": "2021-04-01T10:01:50.748569Z",
     "start_time": "2021-04-01T10:01:50.696411Z"
    }
   },
   "outputs": [
    {
     "data": {
      "text/html": [
       "<div>\n",
       "<style scoped>\n",
       "    .dataframe tbody tr th:only-of-type {\n",
       "        vertical-align: middle;\n",
       "    }\n",
       "\n",
       "    .dataframe tbody tr th {\n",
       "        vertical-align: top;\n",
       "    }\n",
       "\n",
       "    .dataframe thead th {\n",
       "        text-align: right;\n",
       "    }\n",
       "</style>\n",
       "<table border=\"1\" class=\"dataframe\">\n",
       "  <thead>\n",
       "    <tr style=\"text-align: right;\">\n",
       "      <th></th>\n",
       "      <th>State</th>\n",
       "      <th>Account Length</th>\n",
       "      <th>Area Code</th>\n",
       "      <th>Phone</th>\n",
       "      <th>Int'l Plan</th>\n",
       "      <th>VMail Plan</th>\n",
       "      <th>VMail Message</th>\n",
       "      <th>Day Mins</th>\n",
       "      <th>Day Calls</th>\n",
       "      <th>Day Charge</th>\n",
       "      <th>...</th>\n",
       "      <th>Eve Calls</th>\n",
       "      <th>Eve Charge</th>\n",
       "      <th>Night Mins</th>\n",
       "      <th>Night Calls</th>\n",
       "      <th>Night Charge</th>\n",
       "      <th>Intl Mins</th>\n",
       "      <th>Intl Calls</th>\n",
       "      <th>Intl Charge</th>\n",
       "      <th>CustServ Calls</th>\n",
       "      <th>Churn?</th>\n",
       "    </tr>\n",
       "  </thead>\n",
       "  <tbody>\n",
       "    <tr>\n",
       "      <th>15</th>\n",
       "      <td>NY</td>\n",
       "      <td>161</td>\n",
       "      <td>415</td>\n",
       "      <td>351-7269</td>\n",
       "      <td>no</td>\n",
       "      <td>no</td>\n",
       "      <td>0</td>\n",
       "      <td>332.9</td>\n",
       "      <td>67</td>\n",
       "      <td>56.59</td>\n",
       "      <td>...</td>\n",
       "      <td>97</td>\n",
       "      <td>27.01</td>\n",
       "      <td>160.6</td>\n",
       "      <td>128</td>\n",
       "      <td>7.23</td>\n",
       "      <td>5.4</td>\n",
       "      <td>9</td>\n",
       "      <td>1.46</td>\n",
       "      <td>4</td>\n",
       "      <td>True.</td>\n",
       "    </tr>\n",
       "    <tr>\n",
       "      <th>985</th>\n",
       "      <td>NY</td>\n",
       "      <td>64</td>\n",
       "      <td>415</td>\n",
       "      <td>345-9140</td>\n",
       "      <td>yes</td>\n",
       "      <td>no</td>\n",
       "      <td>0</td>\n",
       "      <td>346.8</td>\n",
       "      <td>55</td>\n",
       "      <td>58.96</td>\n",
       "      <td>...</td>\n",
       "      <td>79</td>\n",
       "      <td>21.21</td>\n",
       "      <td>275.4</td>\n",
       "      <td>102</td>\n",
       "      <td>12.39</td>\n",
       "      <td>13.3</td>\n",
       "      <td>9</td>\n",
       "      <td>3.59</td>\n",
       "      <td>1</td>\n",
       "      <td>True.</td>\n",
       "    </tr>\n",
       "  </tbody>\n",
       "</table>\n",
       "<p>2 rows × 21 columns</p>\n",
       "</div>"
      ],
      "text/plain": [
       "    State  Account Length  Area Code     Phone Int'l Plan VMail Plan  \\\n",
       "15     NY             161        415  351-7269         no         no   \n",
       "985    NY              64        415  345-9140        yes         no   \n",
       "\n",
       "     VMail Message  Day Mins  Day Calls  Day Charge  ...  Eve Calls  \\\n",
       "15               0     332.9         67       56.59  ...         97   \n",
       "985              0     346.8         55       58.96  ...         79   \n",
       "\n",
       "     Eve Charge  Night Mins  Night Calls  Night Charge  Intl Mins  Intl Calls  \\\n",
       "15        27.01       160.6          128          7.23        5.4           9   \n",
       "985       21.21       275.4          102         12.39       13.3           9   \n",
       "\n",
       "     Intl Charge  CustServ Calls  Churn?  \n",
       "15          1.46               4   True.  \n",
       "985         3.59               1   True.  \n",
       "\n",
       "[2 rows x 21 columns]"
      ]
     },
     "execution_count": 63,
     "metadata": {},
     "output_type": "execute_result"
    }
   ],
   "source": [
    "data[(data[\"Day Mins\"]>300) & (data[\"State\"] == 'NY')].head()"
   ]
  },
  {
   "cell_type": "code",
   "execution_count": 64,
   "id": "equivalent-substitute",
   "metadata": {
    "ExecuteTime": {
     "end_time": "2021-04-01T10:02:54.380998Z",
     "start_time": "2021-04-01T10:02:54.370762Z"
    }
   },
   "outputs": [
    {
     "data": {
      "text/plain": [
       "(124, 21)"
      ]
     },
     "execution_count": 64,
     "metadata": {},
     "output_type": "execute_result"
    }
   ],
   "source": [
    "data[(data[\"Day Mins\"]>300) & (data[\"State\"] == 'NY')].head()"
   ]
  },
  {
   "cell_type": "code",
   "execution_count": 67,
   "id": "yellow-syria",
   "metadata": {
    "ExecuteTime": {
     "end_time": "2021-04-01T10:04:36.848749Z",
     "start_time": "2021-04-01T10:04:36.829419Z"
    }
   },
   "outputs": [
    {
     "data": {
      "text/plain": [
       "(1626, 21)"
      ]
     },
     "execution_count": 67,
     "metadata": {},
     "output_type": "execute_result"
    }
   ],
   "source": [
    "data[data[\"Day Calls\"] < data[\"Night Calls\"]].shape"
   ]
  },
  {
   "cell_type": "code",
   "execution_count": 69,
   "id": "recognized-sperm",
   "metadata": {
    "ExecuteTime": {
     "end_time": "2021-04-01T10:04:41.178326Z",
     "start_time": "2021-04-01T10:04:41.168637Z"
    }
   },
   "outputs": [
    {
     "data": {
      "text/plain": [
       "(2051, 21)"
      ]
     },
     "execution_count": 69,
     "metadata": {},
     "output_type": "execute_result"
    }
   ],
   "source": [
    "data[data[\"Day Mins\"] < data[\"Night Mins\"]].shape"
   ]
  },
  {
   "cell_type": "code",
   "execution_count": 76,
   "id": "american-television",
   "metadata": {
    "ExecuteTime": {
     "end_time": "2021-04-01T10:25:33.703415Z",
     "start_time": "2021-04-01T10:25:33.683587Z"
    }
   },
   "outputs": [
    {
     "data": {
      "text/html": [
       "<div>\n",
       "<style scoped>\n",
       "    .dataframe tbody tr th:only-of-type {\n",
       "        vertical-align: middle;\n",
       "    }\n",
       "\n",
       "    .dataframe tbody tr th {\n",
       "        vertical-align: top;\n",
       "    }\n",
       "\n",
       "    .dataframe thead th {\n",
       "        text-align: right;\n",
       "    }\n",
       "</style>\n",
       "<table border=\"1\" class=\"dataframe\">\n",
       "  <thead>\n",
       "    <tr style=\"text-align: right;\">\n",
       "      <th></th>\n",
       "      <th>Day Mins</th>\n",
       "      <th>Night Mins</th>\n",
       "      <th>Account Length</th>\n",
       "    </tr>\n",
       "  </thead>\n",
       "  <tbody>\n",
       "    <tr>\n",
       "      <th>0</th>\n",
       "      <td>265.1</td>\n",
       "      <td>244.7</td>\n",
       "      <td>128</td>\n",
       "    </tr>\n",
       "    <tr>\n",
       "      <th>1</th>\n",
       "      <td>161.6</td>\n",
       "      <td>254.4</td>\n",
       "      <td>107</td>\n",
       "    </tr>\n",
       "    <tr>\n",
       "      <th>2</th>\n",
       "      <td>243.4</td>\n",
       "      <td>162.6</td>\n",
       "      <td>137</td>\n",
       "    </tr>\n",
       "    <tr>\n",
       "      <th>3</th>\n",
       "      <td>299.4</td>\n",
       "      <td>196.9</td>\n",
       "      <td>84</td>\n",
       "    </tr>\n",
       "    <tr>\n",
       "      <th>4</th>\n",
       "      <td>166.7</td>\n",
       "      <td>186.9</td>\n",
       "      <td>75</td>\n",
       "    </tr>\n",
       "  </tbody>\n",
       "</table>\n",
       "</div>"
      ],
      "text/plain": [
       "   Day Mins  Night Mins  Account Length\n",
       "0     265.1       244.7             128\n",
       "1     161.6       254.4             107\n",
       "2     243.4       162.6             137\n",
       "3     299.4       196.9              84\n",
       "4     166.7       186.9              75"
      ]
     },
     "execution_count": 76,
     "metadata": {},
     "output_type": "execute_result"
    }
   ],
   "source": [
    "data[[\"Day Mins\",\"Night Mins\",\"Account Length\"]][:49].head()"
   ]
  },
  {
   "cell_type": "code",
   "execution_count": 84,
   "id": "resident-ethnic",
   "metadata": {
    "ExecuteTime": {
     "end_time": "2021-04-01T10:29:38.420360Z",
     "start_time": "2021-04-01T10:29:38.411022Z"
    }
   },
   "outputs": [
    {
     "data": {
      "text/html": [
       "<div>\n",
       "<style scoped>\n",
       "    .dataframe tbody tr th:only-of-type {\n",
       "        vertical-align: middle;\n",
       "    }\n",
       "\n",
       "    .dataframe tbody tr th {\n",
       "        vertical-align: top;\n",
       "    }\n",
       "\n",
       "    .dataframe thead th {\n",
       "        text-align: right;\n",
       "    }\n",
       "</style>\n",
       "<table border=\"1\" class=\"dataframe\">\n",
       "  <thead>\n",
       "    <tr style=\"text-align: right;\">\n",
       "      <th></th>\n",
       "      <th>Phone</th>\n",
       "      <th>Int'l Plan</th>\n",
       "      <th>VMail Plan</th>\n",
       "    </tr>\n",
       "  </thead>\n",
       "  <tbody>\n",
       "    <tr>\n",
       "      <th>0</th>\n",
       "      <td>382-4657</td>\n",
       "      <td>no</td>\n",
       "      <td>yes</td>\n",
       "    </tr>\n",
       "    <tr>\n",
       "      <th>1</th>\n",
       "      <td>371-7191</td>\n",
       "      <td>no</td>\n",
       "      <td>yes</td>\n",
       "    </tr>\n",
       "    <tr>\n",
       "      <th>2</th>\n",
       "      <td>358-1921</td>\n",
       "      <td>no</td>\n",
       "      <td>no</td>\n",
       "    </tr>\n",
       "  </tbody>\n",
       "</table>\n",
       "</div>"
      ],
      "text/plain": [
       "      Phone Int'l Plan VMail Plan\n",
       "0  382-4657         no        yes\n",
       "1  371-7191         no        yes\n",
       "2  358-1921         no         no"
      ]
     },
     "execution_count": 84,
     "metadata": {},
     "output_type": "execute_result"
    }
   ],
   "source": [
    "data.iloc[:3, 3:6]"
   ]
  },
  {
   "cell_type": "code",
   "execution_count": 85,
   "id": "fantastic-failing",
   "metadata": {
    "ExecuteTime": {
     "end_time": "2021-04-01T10:29:41.923941Z",
     "start_time": "2021-04-01T10:29:41.911606Z"
    }
   },
   "outputs": [
    {
     "data": {
      "text/html": [
       "<div>\n",
       "<style scoped>\n",
       "    .dataframe tbody tr th:only-of-type {\n",
       "        vertical-align: middle;\n",
       "    }\n",
       "\n",
       "    .dataframe tbody tr th {\n",
       "        vertical-align: top;\n",
       "    }\n",
       "\n",
       "    .dataframe thead th {\n",
       "        text-align: right;\n",
       "    }\n",
       "</style>\n",
       "<table border=\"1\" class=\"dataframe\">\n",
       "  <thead>\n",
       "    <tr style=\"text-align: right;\">\n",
       "      <th></th>\n",
       "      <th>Area Code</th>\n",
       "      <th>VMail Plan</th>\n",
       "      <th>VMail Message</th>\n",
       "    </tr>\n",
       "  </thead>\n",
       "  <tbody>\n",
       "    <tr>\n",
       "      <th>0</th>\n",
       "      <td>415</td>\n",
       "      <td>yes</td>\n",
       "      <td>25</td>\n",
       "    </tr>\n",
       "    <tr>\n",
       "      <th>1</th>\n",
       "      <td>415</td>\n",
       "      <td>yes</td>\n",
       "      <td>26</td>\n",
       "    </tr>\n",
       "    <tr>\n",
       "      <th>2</th>\n",
       "      <td>415</td>\n",
       "      <td>no</td>\n",
       "      <td>0</td>\n",
       "    </tr>\n",
       "  </tbody>\n",
       "</table>\n",
       "</div>"
      ],
      "text/plain": [
       "   Area Code VMail Plan  VMail Message\n",
       "0        415        yes             25\n",
       "1        415        yes             26\n",
       "2        415         no              0"
      ]
     },
     "execution_count": 85,
     "metadata": {},
     "output_type": "execute_result"
    }
   ],
   "source": [
    "data.iloc[:3, [2,5,6]]"
   ]
  },
  {
   "cell_type": "code",
   "execution_count": 88,
   "id": "cooperative-regression",
   "metadata": {
    "ExecuteTime": {
     "end_time": "2021-04-01T10:31:12.059098Z",
     "start_time": "2021-04-01T10:31:12.044312Z"
    }
   },
   "outputs": [
    {
     "data": {
      "text/html": [
       "<div>\n",
       "<style scoped>\n",
       "    .dataframe tbody tr th:only-of-type {\n",
       "        vertical-align: middle;\n",
       "    }\n",
       "\n",
       "    .dataframe tbody tr th {\n",
       "        vertical-align: top;\n",
       "    }\n",
       "\n",
       "    .dataframe thead th {\n",
       "        text-align: right;\n",
       "    }\n",
       "</style>\n",
       "<table border=\"1\" class=\"dataframe\">\n",
       "  <thead>\n",
       "    <tr style=\"text-align: right;\">\n",
       "      <th></th>\n",
       "      <th>Day Mins</th>\n",
       "      <th>Night Mins</th>\n",
       "      <th>Account Length</th>\n",
       "    </tr>\n",
       "  </thead>\n",
       "  <tbody>\n",
       "    <tr>\n",
       "      <th>1</th>\n",
       "      <td>161.6</td>\n",
       "      <td>254.4</td>\n",
       "      <td>107</td>\n",
       "    </tr>\n",
       "    <tr>\n",
       "      <th>4</th>\n",
       "      <td>166.7</td>\n",
       "      <td>186.9</td>\n",
       "      <td>75</td>\n",
       "    </tr>\n",
       "    <tr>\n",
       "      <th>8</th>\n",
       "      <td>184.5</td>\n",
       "      <td>215.8</td>\n",
       "      <td>117</td>\n",
       "    </tr>\n",
       "    <tr>\n",
       "      <th>36</th>\n",
       "      <td>146.3</td>\n",
       "      <td>129.3</td>\n",
       "      <td>36</td>\n",
       "    </tr>\n",
       "  </tbody>\n",
       "</table>\n",
       "</div>"
      ],
      "text/plain": [
       "    Day Mins  Night Mins  Account Length\n",
       "1      161.6       254.4             107\n",
       "4      166.7       186.9              75\n",
       "8      184.5       215.8             117\n",
       "36     146.3       129.3              36"
      ]
     },
     "execution_count": 88,
     "metadata": {},
     "output_type": "execute_result"
    }
   ],
   "source": [
    "data.loc[[1,4,8,36],[\"Day Mins\",\"Night Mins\",\"Account Length\"]]"
   ]
  },
  {
   "cell_type": "markdown",
   "id": "monetary-torture",
   "metadata": {
    "ExecuteTime": {
     "end_time": "2021-04-01T10:31:48.725184Z",
     "start_time": "2021-04-01T10:31:48.718780Z"
    }
   },
   "source": [
    "## New columns"
   ]
  },
  {
   "cell_type": "code",
   "execution_count": 93,
   "id": "wired-identifier",
   "metadata": {
    "ExecuteTime": {
     "end_time": "2021-04-01T10:33:20.147199Z",
     "start_time": "2021-04-01T10:33:20.131446Z"
    }
   },
   "outputs": [],
   "source": [
    "data[\"Total Mins\"] = data[\"Night Mins\"] + data[\"Day Mins\"] + data[\"Eve Mins\"]"
   ]
  },
  {
   "cell_type": "code",
   "execution_count": 95,
   "id": "velvet-murray",
   "metadata": {
    "ExecuteTime": {
     "end_time": "2021-04-01T10:33:46.019036Z",
     "start_time": "2021-04-01T10:33:45.998733Z"
    },
    "scrolled": true
   },
   "outputs": [
    {
     "data": {
      "text/html": [
       "<div>\n",
       "<style scoped>\n",
       "    .dataframe tbody tr th:only-of-type {\n",
       "        vertical-align: middle;\n",
       "    }\n",
       "\n",
       "    .dataframe tbody tr th {\n",
       "        vertical-align: top;\n",
       "    }\n",
       "\n",
       "    .dataframe thead th {\n",
       "        text-align: right;\n",
       "    }\n",
       "</style>\n",
       "<table border=\"1\" class=\"dataframe\">\n",
       "  <thead>\n",
       "    <tr style=\"text-align: right;\">\n",
       "      <th></th>\n",
       "      <th>Total Mins</th>\n",
       "      <th>State</th>\n",
       "      <th>Night Mins</th>\n",
       "      <th>Day Mins</th>\n",
       "      <th>Eve Mins</th>\n",
       "    </tr>\n",
       "  </thead>\n",
       "  <tbody>\n",
       "    <tr>\n",
       "      <th>0</th>\n",
       "      <td>707.2</td>\n",
       "      <td>KS</td>\n",
       "      <td>244.7</td>\n",
       "      <td>265.1</td>\n",
       "      <td>197.4</td>\n",
       "    </tr>\n",
       "    <tr>\n",
       "      <th>1</th>\n",
       "      <td>611.5</td>\n",
       "      <td>OH</td>\n",
       "      <td>254.4</td>\n",
       "      <td>161.6</td>\n",
       "      <td>195.5</td>\n",
       "    </tr>\n",
       "    <tr>\n",
       "      <th>2</th>\n",
       "      <td>527.2</td>\n",
       "      <td>NJ</td>\n",
       "      <td>162.6</td>\n",
       "      <td>243.4</td>\n",
       "      <td>121.2</td>\n",
       "    </tr>\n",
       "    <tr>\n",
       "      <th>3</th>\n",
       "      <td>558.2</td>\n",
       "      <td>OH</td>\n",
       "      <td>196.9</td>\n",
       "      <td>299.4</td>\n",
       "      <td>61.9</td>\n",
       "    </tr>\n",
       "    <tr>\n",
       "      <th>4</th>\n",
       "      <td>501.9</td>\n",
       "      <td>OK</td>\n",
       "      <td>186.9</td>\n",
       "      <td>166.7</td>\n",
       "      <td>148.3</td>\n",
       "    </tr>\n",
       "  </tbody>\n",
       "</table>\n",
       "</div>"
      ],
      "text/plain": [
       "   Total Mins State  Night Mins  Day Mins  Eve Mins\n",
       "0       707.2    KS       244.7     265.1     197.4\n",
       "1       611.5    OH       254.4     161.6     195.5\n",
       "2       527.2    NJ       162.6     243.4     121.2\n",
       "3       558.2    OH       196.9     299.4      61.9\n",
       "4       501.9    OK       186.9     166.7     148.3"
      ]
     },
     "execution_count": 95,
     "metadata": {},
     "output_type": "execute_result"
    }
   ],
   "source": [
    "data[[\"Total Mins\", \"State\", \"Night Mins\", \"Day Mins\", \"Eve Mins\"]].head()"
   ]
  },
  {
   "cell_type": "markdown",
   "id": "surrounded-cedar",
   "metadata": {},
   "source": [
    "## Generación de números aleatorios"
   ]
  },
  {
   "cell_type": "code",
   "execution_count": 132,
   "id": "narrative-salmon",
   "metadata": {
    "ExecuteTime": {
     "end_time": "2021-04-01T10:47:51.622539Z",
     "start_time": "2021-04-01T10:47:51.617916Z"
    }
   },
   "outputs": [],
   "source": [
    "import numpy as np"
   ]
  },
  {
   "cell_type": "code",
   "execution_count": 133,
   "id": "republican-paris",
   "metadata": {
    "ExecuteTime": {
     "end_time": "2021-04-01T10:47:58.634014Z",
     "start_time": "2021-04-01T10:47:58.629521Z"
    }
   },
   "outputs": [
    {
     "data": {
      "text/plain": [
       "66"
      ]
     },
     "execution_count": 133,
     "metadata": {},
     "output_type": "execute_result"
    }
   ],
   "source": [
    "np.random.randint(1,100)"
   ]
  },
  {
   "cell_type": "code",
   "execution_count": 135,
   "id": "planned-information",
   "metadata": {
    "ExecuteTime": {
     "end_time": "2021-04-01T10:48:38.031994Z",
     "start_time": "2021-04-01T10:48:38.020229Z"
    }
   },
   "outputs": [
    {
     "data": {
      "text/plain": [
       "0.5299873261952182"
      ]
     },
     "execution_count": 135,
     "metadata": {},
     "output_type": "execute_result"
    }
   ],
   "source": [
    "np.random.random()"
   ]
  },
  {
   "cell_type": "code",
   "execution_count": 137,
   "id": "attended-proposition",
   "metadata": {
    "ExecuteTime": {
     "end_time": "2021-04-01T10:50:57.330700Z",
     "start_time": "2021-04-01T10:50:57.315345Z"
    }
   },
   "outputs": [],
   "source": [
    "def random_list(n,a,b):\n",
    "    \"\"\"Generta una lista de números aleatorios enteros entre a y b\"\"\"\n",
    "    return [np.random.randint(a,b) for i in range(n)]"
   ]
  },
  {
   "cell_type": "code",
   "execution_count": 138,
   "id": "billion-consortium",
   "metadata": {
    "ExecuteTime": {
     "end_time": "2021-04-01T10:51:12.058729Z",
     "start_time": "2021-04-01T10:51:12.052008Z"
    }
   },
   "outputs": [
    {
     "data": {
      "text/plain": [
       "[19, 11, 10, 18, 3, 6, 16, 7]"
      ]
     },
     "execution_count": 138,
     "metadata": {},
     "output_type": "execute_result"
    }
   ],
   "source": [
    "random_list(8,2,20)"
   ]
  },
  {
   "cell_type": "code",
   "execution_count": 139,
   "id": "touched-mixer",
   "metadata": {
    "ExecuteTime": {
     "end_time": "2021-04-01T10:51:48.102018Z",
     "start_time": "2021-04-01T10:51:48.091819Z"
    }
   },
   "outputs": [],
   "source": [
    "import random"
   ]
  },
  {
   "cell_type": "code",
   "execution_count": 156,
   "id": "worth-bicycle",
   "metadata": {
    "ExecuteTime": {
     "end_time": "2021-04-01T10:53:01.773021Z",
     "start_time": "2021-04-01T10:53:01.764835Z"
    }
   },
   "outputs": [
    {
     "data": {
      "text/plain": [
       "[9.0, 12.0, 2.0, 1.0, 12.0, 4.0, 4.0, 11.0, 6.0, 3.0]"
      ]
     },
     "execution_count": 156,
     "metadata": {},
     "output_type": "execute_result"
    }
   ],
   "source": [
    "[random.randrange(0,100,7)/7 for i in range(10)]"
   ]
  },
  {
   "cell_type": "markdown",
   "id": "armed-insert",
   "metadata": {
    "ExecuteTime": {
     "end_time": "2021-04-01T10:54:09.652708Z",
     "start_time": "2021-04-01T10:54:09.650034Z"
    }
   },
   "source": [
    "## Shuffling"
   ]
  },
  {
   "cell_type": "code",
   "execution_count": 173,
   "id": "nasty-association",
   "metadata": {
    "ExecuteTime": {
     "end_time": "2021-04-01T10:56:55.932876Z",
     "start_time": "2021-04-01T10:56:55.929080Z"
    }
   },
   "outputs": [],
   "source": [
    "arr = np.arange(100)"
   ]
  },
  {
   "cell_type": "code",
   "execution_count": 180,
   "id": "quick-integral",
   "metadata": {
    "ExecuteTime": {
     "end_time": "2021-04-01T10:57:00.628415Z",
     "start_time": "2021-04-01T10:57:00.613336Z"
    }
   },
   "outputs": [
    {
     "data": {
      "text/plain": [
       "array([22, 15, 49,  3, 69, 73,  5, 57, 27, 78, 37, 12, 31, 19, 74, 95, 53,\n",
       "       94, 59, 36, 66,  4, 28, 92, 61, 75, 51, 48, 70, 90, 44, 43, 79,  9,\n",
       "       86,  0, 71, 35, 24, 97, 26, 20, 18, 34, 76, 52, 32, 82,  2, 64, 56,\n",
       "       21, 58, 81, 89,  8, 80, 91, 42, 29,  7, 77,  6, 47, 17, 85, 45, 13,\n",
       "       55, 87, 96, 99, 83, 63, 54, 40, 84,  1, 88, 30, 72, 14, 60, 25, 39,\n",
       "       68, 67, 33, 98, 65, 11, 62, 93, 38, 50, 46, 10, 16, 41, 23])"
      ]
     },
     "execution_count": 180,
     "metadata": {},
     "output_type": "execute_result"
    }
   ],
   "source": [
    "np.random.shuffle(arr)\n",
    "arr"
   ]
  },
  {
   "cell_type": "code",
   "execution_count": 192,
   "id": "apart-youth",
   "metadata": {
    "ExecuteTime": {
     "end_time": "2021-04-01T10:59:41.336085Z",
     "start_time": "2021-04-01T10:59:41.331056Z"
    }
   },
   "outputs": [
    {
     "data": {
      "text/plain": [
       "'CustServ Calls'"
      ]
     },
     "execution_count": 192,
     "metadata": {},
     "output_type": "execute_result"
    }
   ],
   "source": [
    "np.random.choice(data.columns.values.tolist())"
   ]
  },
  {
   "cell_type": "markdown",
   "id": "mysterious-agency",
   "metadata": {
    "ExecuteTime": {
     "end_time": "2021-04-01T10:59:49.444767Z",
     "start_time": "2021-04-01T10:59:49.442063Z"
    }
   },
   "source": [
    "## Seed"
   ]
  }
 ],
 "metadata": {
  "kernelspec": {
   "display_name": "Python 3",
   "language": "python",
   "name": "python3"
  },
  "language_info": {
   "codemirror_mode": {
    "name": "ipython",
    "version": 3
   },
   "file_extension": ".py",
   "mimetype": "text/x-python",
   "name": "python",
   "nbconvert_exporter": "python",
   "pygments_lexer": "ipython3",
   "version": "3.7.9"
  },
  "toc": {
   "base_numbering": 1,
   "nav_menu": {},
   "number_sections": true,
   "sideBar": true,
   "skip_h1_title": true,
   "title_cell": "Table of Contents",
   "title_sidebar": "Contents",
   "toc_cell": false,
   "toc_position": {},
   "toc_section_display": true,
   "toc_window_display": true
  }
 },
 "nbformat": 4,
 "nbformat_minor": 5
}
