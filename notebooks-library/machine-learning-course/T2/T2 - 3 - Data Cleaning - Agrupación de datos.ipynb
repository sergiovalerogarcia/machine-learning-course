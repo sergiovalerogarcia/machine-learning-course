{
 "cells": [
  {
   "cell_type": "markdown",
   "id": "0ce12eb1",
   "metadata": {},
   "source": [
    "# Agregación de datos por categoría"
   ]
  },
  {
   "cell_type": "code",
   "execution_count": 3,
   "id": "59a93d55",
   "metadata": {},
   "outputs": [],
   "source": [
    "import pandas as pd\n",
    "import numpy as np"
   ]
  },
  {
   "cell_type": "code",
   "execution_count": 4,
   "id": "c5030dc0",
   "metadata": {},
   "outputs": [],
   "source": [
    "gender = [\"Male\", \"Female\"]\n",
    "income = [\"Poor\", \"Middle Class\", \"Rich\"]"
   ]
  },
  {
   "cell_type": "code",
   "execution_count": 5,
   "id": "a0a4db78",
   "metadata": {},
   "outputs": [],
   "source": [
    "n = 500\n",
    "\n",
    "gender_data = []\n",
    "income_data = []\n",
    "\n",
    "for i in range(0, 500):\n",
    "    gender_data.append(np.random.choice(gender))\n",
    "    income_data.append(np.random.choice(income))"
   ]
  },
  {
   "cell_type": "code",
   "execution_count": 6,
   "id": "343e3fa4",
   "metadata": {},
   "outputs": [],
   "source": [
    "# Z -> N(0, 1)\n",
    "# N(m, s) -> m + s * z\n",
    "\n",
    "height = 160 + 30 * np.random.randn(n)\n",
    "weight = 65 + 25 * np.random.randn(n)\n",
    "age = 30 + 12 * np.random.randn(n)\n",
    "income = 18000 + 3500 * np.random.randn(n)"
   ]
  },
  {
   "cell_type": "code",
   "execution_count": 7,
   "id": "05c93cc3",
   "metadata": {},
   "outputs": [],
   "source": [
    "data = pd.DataFrame(\n",
    "    {\n",
    "        \"Gender\": gender_data,\n",
    "        \"Economic Status\": income_data,\n",
    "        \"Height\": height,\n",
    "        \"Height\": weight,\n",
    "        \"Age\": age,\n",
    "        \"Income\": income\n",
    "    }\n",
    ")"
   ]
  },
  {
   "cell_type": "code",
   "execution_count": 8,
   "id": "b9a04dc6",
   "metadata": {
    "scrolled": true
   },
   "outputs": [
    {
     "data": {
      "text/html": [
       "<div>\n",
       "<style scoped>\n",
       "    .dataframe tbody tr th:only-of-type {\n",
       "        vertical-align: middle;\n",
       "    }\n",
       "\n",
       "    .dataframe tbody tr th {\n",
       "        vertical-align: top;\n",
       "    }\n",
       "\n",
       "    .dataframe thead th {\n",
       "        text-align: right;\n",
       "    }\n",
       "</style>\n",
       "<table border=\"1\" class=\"dataframe\">\n",
       "  <thead>\n",
       "    <tr style=\"text-align: right;\">\n",
       "      <th></th>\n",
       "      <th>Gender</th>\n",
       "      <th>Economic Status</th>\n",
       "      <th>Height</th>\n",
       "      <th>Age</th>\n",
       "      <th>Income</th>\n",
       "    </tr>\n",
       "  </thead>\n",
       "  <tbody>\n",
       "    <tr>\n",
       "      <th>0</th>\n",
       "      <td>Female</td>\n",
       "      <td>Poor</td>\n",
       "      <td>49.527278</td>\n",
       "      <td>37.793333</td>\n",
       "      <td>20431.551003</td>\n",
       "    </tr>\n",
       "    <tr>\n",
       "      <th>1</th>\n",
       "      <td>Female</td>\n",
       "      <td>Rich</td>\n",
       "      <td>22.340759</td>\n",
       "      <td>38.646274</td>\n",
       "      <td>14514.262893</td>\n",
       "    </tr>\n",
       "    <tr>\n",
       "      <th>2</th>\n",
       "      <td>Female</td>\n",
       "      <td>Rich</td>\n",
       "      <td>86.223924</td>\n",
       "      <td>28.004785</td>\n",
       "      <td>22278.597871</td>\n",
       "    </tr>\n",
       "    <tr>\n",
       "      <th>3</th>\n",
       "      <td>Male</td>\n",
       "      <td>Rich</td>\n",
       "      <td>67.107455</td>\n",
       "      <td>32.208059</td>\n",
       "      <td>24217.879368</td>\n",
       "    </tr>\n",
       "    <tr>\n",
       "      <th>4</th>\n",
       "      <td>Male</td>\n",
       "      <td>Middle Class</td>\n",
       "      <td>42.697664</td>\n",
       "      <td>31.932755</td>\n",
       "      <td>15400.441744</td>\n",
       "    </tr>\n",
       "    <tr>\n",
       "      <th>5</th>\n",
       "      <td>Male</td>\n",
       "      <td>Poor</td>\n",
       "      <td>84.376755</td>\n",
       "      <td>40.471468</td>\n",
       "      <td>11383.022491</td>\n",
       "    </tr>\n",
       "    <tr>\n",
       "      <th>6</th>\n",
       "      <td>Male</td>\n",
       "      <td>Poor</td>\n",
       "      <td>77.253812</td>\n",
       "      <td>37.457222</td>\n",
       "      <td>24213.371380</td>\n",
       "    </tr>\n",
       "    <tr>\n",
       "      <th>7</th>\n",
       "      <td>Female</td>\n",
       "      <td>Middle Class</td>\n",
       "      <td>69.448671</td>\n",
       "      <td>-1.484832</td>\n",
       "      <td>12521.218820</td>\n",
       "    </tr>\n",
       "    <tr>\n",
       "      <th>8</th>\n",
       "      <td>Female</td>\n",
       "      <td>Poor</td>\n",
       "      <td>58.855110</td>\n",
       "      <td>30.005920</td>\n",
       "      <td>14744.768094</td>\n",
       "    </tr>\n",
       "    <tr>\n",
       "      <th>9</th>\n",
       "      <td>Female</td>\n",
       "      <td>Rich</td>\n",
       "      <td>62.503767</td>\n",
       "      <td>30.971454</td>\n",
       "      <td>15696.760009</td>\n",
       "    </tr>\n",
       "  </tbody>\n",
       "</table>\n",
       "</div>"
      ],
      "text/plain": [
       "   Gender Economic Status     Height        Age        Income\n",
       "0  Female            Poor  49.527278  37.793333  20431.551003\n",
       "1  Female            Rich  22.340759  38.646274  14514.262893\n",
       "2  Female            Rich  86.223924  28.004785  22278.597871\n",
       "3    Male            Rich  67.107455  32.208059  24217.879368\n",
       "4    Male    Middle Class  42.697664  31.932755  15400.441744\n",
       "5    Male            Poor  84.376755  40.471468  11383.022491\n",
       "6    Male            Poor  77.253812  37.457222  24213.371380\n",
       "7  Female    Middle Class  69.448671  -1.484832  12521.218820\n",
       "8  Female            Poor  58.855110  30.005920  14744.768094\n",
       "9  Female            Rich  62.503767  30.971454  15696.760009"
      ]
     },
     "execution_count": 8,
     "metadata": {},
     "output_type": "execute_result"
    }
   ],
   "source": [
    "data.head(10)"
   ]
  },
  {
   "cell_type": "markdown",
   "id": "8a580432",
   "metadata": {},
   "source": [
    "## Agrupación de datos"
   ]
  },
  {
   "cell_type": "code",
   "execution_count": 9,
   "id": "39933283",
   "metadata": {},
   "outputs": [],
   "source": [
    "double_group = data.groupby([\"Gender\", \"Economic Status\"])"
   ]
  },
  {
   "cell_type": "code",
   "execution_count": 10,
   "id": "2dcc6365",
   "metadata": {},
   "outputs": [
    {
     "data": {
      "text/plain": [
       "6"
      ]
     },
     "execution_count": 10,
     "metadata": {},
     "output_type": "execute_result"
    }
   ],
   "source": [
    "len(double_group)"
   ]
  },
  {
   "cell_type": "code",
   "execution_count": 11,
   "id": "6071716a",
   "metadata": {},
   "outputs": [
    {
     "name": "stdout",
     "output_type": "stream",
     "text": [
      "('Female', 'Middle Class')\n",
      "     Gender Economic Status      Height        Age        Income\n",
      "7    Female    Middle Class   69.448671  -1.484832  12521.218820\n",
      "15   Female    Middle Class   52.147027  27.799839  17784.326011\n",
      "26   Female    Middle Class   64.727274  24.417819  19398.777607\n",
      "40   Female    Middle Class  105.547342  28.092512  24719.751275\n",
      "42   Female    Middle Class   43.952276  48.794311  14624.919771\n",
      "..      ...             ...         ...        ...           ...\n",
      "476  Female    Middle Class   80.901434  40.081023  13008.548426\n",
      "478  Female    Middle Class   72.505479  48.039470  18284.726189\n",
      "482  Female    Middle Class   77.897553  21.645198  16842.955639\n",
      "483  Female    Middle Class   64.636198  23.685798  18565.754015\n",
      "494  Female    Middle Class   73.196829  23.974540  13652.375731\n",
      "\n",
      "[82 rows x 5 columns]\n",
      "('Female', 'Poor')\n",
      "     Gender Economic Status     Height        Age        Income\n",
      "0    Female            Poor  49.527278  37.793333  20431.551003\n",
      "8    Female            Poor  58.855110  30.005920  14744.768094\n",
      "20   Female            Poor  44.589887  16.349694  20450.886771\n",
      "24   Female            Poor  63.998666  45.745722  17665.867197\n",
      "25   Female            Poor  55.287253  23.274645  17410.121668\n",
      "..      ...             ...        ...        ...           ...\n",
      "479  Female            Poor  60.186125  15.430360  20162.036996\n",
      "485  Female            Poor  81.505759  15.801033  17571.089742\n",
      "488  Female            Poor  36.155734  20.464704  19804.028428\n",
      "496  Female            Poor  99.638427  40.289535  24960.379558\n",
      "498  Female            Poor  58.867400  21.619458  20595.286157\n",
      "\n",
      "[98 rows x 5 columns]\n",
      "('Female', 'Rich')\n",
      "     Gender Economic Status     Height        Age        Income\n",
      "1    Female            Rich  22.340759  38.646274  14514.262893\n",
      "2    Female            Rich  86.223924  28.004785  22278.597871\n",
      "9    Female            Rich  62.503767  30.971454  15696.760009\n",
      "14   Female            Rich  75.013511  48.327101  27379.173342\n",
      "16   Female            Rich  26.080278  23.399576  11902.924299\n",
      "..      ...             ...        ...        ...           ...\n",
      "477  Female            Rich  63.591500  31.144290  17859.164888\n",
      "480  Female            Rich  75.629901  41.942227  16230.477616\n",
      "481  Female            Rich  73.836400  20.421170  19541.442378\n",
      "487  Female            Rich  66.852173  30.540017  18026.894970\n",
      "491  Female            Rich  79.732197  19.069939  19242.006397\n",
      "\n",
      "[78 rows x 5 columns]\n",
      "('Male', 'Middle Class')\n",
      "    Gender Economic Status     Height        Age        Income\n",
      "4     Male    Middle Class  42.697664  31.932755  15400.441744\n",
      "11    Male    Middle Class  67.911107  25.271600  26244.083054\n",
      "17    Male    Middle Class  96.829212  28.866768  20175.184033\n",
      "18    Male    Middle Class  48.186909   2.874732  17835.479301\n",
      "21    Male    Middle Class  76.970670  17.401151  14494.223129\n",
      "..     ...             ...        ...        ...           ...\n",
      "472   Male    Middle Class  79.513897  32.123582  19335.247010\n",
      "486   Male    Middle Class  54.757918  44.130500  12988.917208\n",
      "493   Male    Middle Class  60.817227  20.242084  13668.580540\n",
      "495   Male    Middle Class  41.623510  22.298742  16909.501414\n",
      "499   Male    Middle Class  90.084977   7.299765  16017.144861\n",
      "\n",
      "[83 rows x 5 columns]\n",
      "('Male', 'Poor')\n",
      "    Gender Economic Status      Height        Age        Income\n",
      "5     Male            Poor   84.376755  40.471468  11383.022491\n",
      "6     Male            Poor   77.253812  37.457222  24213.371380\n",
      "12    Male            Poor   52.784772  26.838674  18096.071235\n",
      "23    Male            Poor   37.583657  18.371839  15543.700071\n",
      "39    Male            Poor   51.022145  26.177568  20277.798492\n",
      "..     ...             ...         ...        ...           ...\n",
      "465   Male            Poor  100.291245  19.306142  20585.478519\n",
      "466   Male            Poor   81.875563  25.758557  20780.680935\n",
      "467   Male            Poor   26.831201   5.630978  13140.514690\n",
      "471   Male            Poor   21.958610  17.063439  18050.207583\n",
      "484   Male            Poor   71.482732  15.645887  21801.354525\n",
      "\n",
      "[77 rows x 5 columns]\n",
      "('Male', 'Rich')\n",
      "    Gender Economic Status      Height        Age        Income\n",
      "3     Male            Rich   67.107455  32.208059  24217.879368\n",
      "10    Male            Rich   66.374854  34.083395  23293.590852\n",
      "13    Male            Rich   86.123801  31.982834  12171.119551\n",
      "19    Male            Rich  106.933200  24.023264  14224.106108\n",
      "27    Male            Rich   96.143878  32.142521  19761.007669\n",
      "..     ...             ...         ...        ...           ...\n",
      "474   Male            Rich  102.138902  33.201809  17642.686292\n",
      "489   Male            Rich   65.597407  30.740795  26459.896905\n",
      "490   Male            Rich   49.918745  32.486809  18282.976198\n",
      "492   Male            Rich   66.173696  23.307217  25957.079230\n",
      "497   Male            Rich   62.993777  15.283793  17794.765964\n",
      "\n",
      "[82 rows x 5 columns]\n"
     ]
    }
   ],
   "source": [
    "for names, groups in double_group:\n",
    "    print(names)\n",
    "    print(groups)"
   ]
  },
  {
   "cell_type": "markdown",
   "id": "9928da4f",
   "metadata": {},
   "source": [
    "## Operaciones sobre datos agrupados"
   ]
  },
  {
   "cell_type": "code",
   "execution_count": 12,
   "id": "34397e8b",
   "metadata": {},
   "outputs": [
    {
     "data": {
      "text/html": [
       "<div>\n",
       "<style scoped>\n",
       "    .dataframe tbody tr th:only-of-type {\n",
       "        vertical-align: middle;\n",
       "    }\n",
       "\n",
       "    .dataframe tbody tr th {\n",
       "        vertical-align: top;\n",
       "    }\n",
       "\n",
       "    .dataframe thead th {\n",
       "        text-align: right;\n",
       "    }\n",
       "</style>\n",
       "<table border=\"1\" class=\"dataframe\">\n",
       "  <thead>\n",
       "    <tr style=\"text-align: right;\">\n",
       "      <th></th>\n",
       "      <th></th>\n",
       "      <th>Height</th>\n",
       "      <th>Age</th>\n",
       "      <th>Income</th>\n",
       "    </tr>\n",
       "    <tr>\n",
       "      <th>Gender</th>\n",
       "      <th>Economic Status</th>\n",
       "      <th></th>\n",
       "      <th></th>\n",
       "      <th></th>\n",
       "    </tr>\n",
       "  </thead>\n",
       "  <tbody>\n",
       "    <tr>\n",
       "      <th rowspan=\"3\" valign=\"top\">Female</th>\n",
       "      <th>Middle Class</th>\n",
       "      <td>5385.530805</td>\n",
       "      <td>2576.547335</td>\n",
       "      <td>1.437129e+06</td>\n",
       "    </tr>\n",
       "    <tr>\n",
       "      <th>Poor</th>\n",
       "      <td>6144.259303</td>\n",
       "      <td>2879.020308</td>\n",
       "      <td>1.759356e+06</td>\n",
       "    </tr>\n",
       "    <tr>\n",
       "      <th>Rich</th>\n",
       "      <td>4636.482569</td>\n",
       "      <td>2449.276960</td>\n",
       "      <td>1.394765e+06</td>\n",
       "    </tr>\n",
       "    <tr>\n",
       "      <th rowspan=\"3\" valign=\"top\">Male</th>\n",
       "      <th>Middle Class</th>\n",
       "      <td>5639.057107</td>\n",
       "      <td>2498.002510</td>\n",
       "      <td>1.443041e+06</td>\n",
       "    </tr>\n",
       "    <tr>\n",
       "      <th>Poor</th>\n",
       "      <td>4791.287437</td>\n",
       "      <td>2187.187122</td>\n",
       "      <td>1.439570e+06</td>\n",
       "    </tr>\n",
       "    <tr>\n",
       "      <th>Rich</th>\n",
       "      <td>5878.936105</td>\n",
       "      <td>2394.398287</td>\n",
       "      <td>1.543833e+06</td>\n",
       "    </tr>\n",
       "  </tbody>\n",
       "</table>\n",
       "</div>"
      ],
      "text/plain": [
       "                             Height          Age        Income\n",
       "Gender Economic Status                                        \n",
       "Female Middle Class     5385.530805  2576.547335  1.437129e+06\n",
       "       Poor             6144.259303  2879.020308  1.759356e+06\n",
       "       Rich             4636.482569  2449.276960  1.394765e+06\n",
       "Male   Middle Class     5639.057107  2498.002510  1.443041e+06\n",
       "       Poor             4791.287437  2187.187122  1.439570e+06\n",
       "       Rich             5878.936105  2394.398287  1.543833e+06"
      ]
     },
     "execution_count": 12,
     "metadata": {},
     "output_type": "execute_result"
    }
   ],
   "source": [
    "double_group.sum()"
   ]
  },
  {
   "cell_type": "code",
   "execution_count": 13,
   "id": "485d88d4",
   "metadata": {},
   "outputs": [
    {
     "data": {
      "text/html": [
       "<div>\n",
       "<style scoped>\n",
       "    .dataframe tbody tr th:only-of-type {\n",
       "        vertical-align: middle;\n",
       "    }\n",
       "\n",
       "    .dataframe tbody tr th {\n",
       "        vertical-align: top;\n",
       "    }\n",
       "\n",
       "    .dataframe thead th {\n",
       "        text-align: right;\n",
       "    }\n",
       "</style>\n",
       "<table border=\"1\" class=\"dataframe\">\n",
       "  <thead>\n",
       "    <tr style=\"text-align: right;\">\n",
       "      <th></th>\n",
       "      <th></th>\n",
       "      <th>Height</th>\n",
       "      <th>Age</th>\n",
       "      <th>Income</th>\n",
       "    </tr>\n",
       "    <tr>\n",
       "      <th>Gender</th>\n",
       "      <th>Economic Status</th>\n",
       "      <th></th>\n",
       "      <th></th>\n",
       "      <th></th>\n",
       "    </tr>\n",
       "  </thead>\n",
       "  <tbody>\n",
       "    <tr>\n",
       "      <th rowspan=\"3\" valign=\"top\">Female</th>\n",
       "      <th>Middle Class</th>\n",
       "      <td>65.677205</td>\n",
       "      <td>31.421309</td>\n",
       "      <td>17525.958772</td>\n",
       "    </tr>\n",
       "    <tr>\n",
       "      <th>Poor</th>\n",
       "      <td>62.696523</td>\n",
       "      <td>29.377758</td>\n",
       "      <td>17952.611052</td>\n",
       "    </tr>\n",
       "    <tr>\n",
       "      <th>Rich</th>\n",
       "      <td>59.442084</td>\n",
       "      <td>31.400987</td>\n",
       "      <td>17881.607682</td>\n",
       "    </tr>\n",
       "    <tr>\n",
       "      <th rowspan=\"3\" valign=\"top\">Male</th>\n",
       "      <th>Middle Class</th>\n",
       "      <td>67.940447</td>\n",
       "      <td>30.096416</td>\n",
       "      <td>17386.038819</td>\n",
       "    </tr>\n",
       "    <tr>\n",
       "      <th>Poor</th>\n",
       "      <td>62.224512</td>\n",
       "      <td>28.405028</td>\n",
       "      <td>18695.712180</td>\n",
       "    </tr>\n",
       "    <tr>\n",
       "      <th>Rich</th>\n",
       "      <td>71.694343</td>\n",
       "      <td>29.199979</td>\n",
       "      <td>18827.230260</td>\n",
       "    </tr>\n",
       "  </tbody>\n",
       "</table>\n",
       "</div>"
      ],
      "text/plain": [
       "                           Height        Age        Income\n",
       "Gender Economic Status                                    \n",
       "Female Middle Class     65.677205  31.421309  17525.958772\n",
       "       Poor             62.696523  29.377758  17952.611052\n",
       "       Rich             59.442084  31.400987  17881.607682\n",
       "Male   Middle Class     67.940447  30.096416  17386.038819\n",
       "       Poor             62.224512  28.405028  18695.712180\n",
       "       Rich             71.694343  29.199979  18827.230260"
      ]
     },
     "execution_count": 13,
     "metadata": {},
     "output_type": "execute_result"
    }
   ],
   "source": [
    "double_group.mean()"
   ]
  },
  {
   "cell_type": "code",
   "execution_count": 14,
   "id": "fdab030d",
   "metadata": {},
   "outputs": [
    {
     "data": {
      "text/plain": [
       "Gender  Economic Status\n",
       "Female  Middle Class       82\n",
       "        Poor               98\n",
       "        Rich               78\n",
       "Male    Middle Class       83\n",
       "        Poor               77\n",
       "        Rich               82\n",
       "dtype: int64"
      ]
     },
     "execution_count": 14,
     "metadata": {},
     "output_type": "execute_result"
    }
   ],
   "source": [
    "double_group.size()"
   ]
  },
  {
   "cell_type": "code",
   "execution_count": 15,
   "id": "7ff0252f",
   "metadata": {},
   "outputs": [
    {
     "data": {
      "text/html": [
       "<div>\n",
       "<style scoped>\n",
       "    .dataframe tbody tr th:only-of-type {\n",
       "        vertical-align: middle;\n",
       "    }\n",
       "\n",
       "    .dataframe tbody tr th {\n",
       "        vertical-align: top;\n",
       "    }\n",
       "\n",
       "    .dataframe thead tr th {\n",
       "        text-align: left;\n",
       "    }\n",
       "\n",
       "    .dataframe thead tr:last-of-type th {\n",
       "        text-align: right;\n",
       "    }\n",
       "</style>\n",
       "<table border=\"1\" class=\"dataframe\">\n",
       "  <thead>\n",
       "    <tr>\n",
       "      <th></th>\n",
       "      <th></th>\n",
       "      <th colspan=\"8\" halign=\"left\">Height</th>\n",
       "      <th colspan=\"5\" halign=\"left\">Age</th>\n",
       "      <th colspan=\"8\" halign=\"left\">Income</th>\n",
       "    </tr>\n",
       "    <tr>\n",
       "      <th></th>\n",
       "      <th></th>\n",
       "      <th>count</th>\n",
       "      <th>mean</th>\n",
       "      <th>std</th>\n",
       "      <th>min</th>\n",
       "      <th>25%</th>\n",
       "      <th>50%</th>\n",
       "      <th>75%</th>\n",
       "      <th>max</th>\n",
       "      <th>count</th>\n",
       "      <th>mean</th>\n",
       "      <th>...</th>\n",
       "      <th>75%</th>\n",
       "      <th>max</th>\n",
       "      <th>count</th>\n",
       "      <th>mean</th>\n",
       "      <th>std</th>\n",
       "      <th>min</th>\n",
       "      <th>25%</th>\n",
       "      <th>50%</th>\n",
       "      <th>75%</th>\n",
       "      <th>max</th>\n",
       "    </tr>\n",
       "    <tr>\n",
       "      <th>Gender</th>\n",
       "      <th>Economic Status</th>\n",
       "      <th></th>\n",
       "      <th></th>\n",
       "      <th></th>\n",
       "      <th></th>\n",
       "      <th></th>\n",
       "      <th></th>\n",
       "      <th></th>\n",
       "      <th></th>\n",
       "      <th></th>\n",
       "      <th></th>\n",
       "      <th></th>\n",
       "      <th></th>\n",
       "      <th></th>\n",
       "      <th></th>\n",
       "      <th></th>\n",
       "      <th></th>\n",
       "      <th></th>\n",
       "      <th></th>\n",
       "      <th></th>\n",
       "      <th></th>\n",
       "      <th></th>\n",
       "    </tr>\n",
       "  </thead>\n",
       "  <tbody>\n",
       "    <tr>\n",
       "      <th rowspan=\"3\" valign=\"top\">Female</th>\n",
       "      <th>Middle Class</th>\n",
       "      <td>82.0</td>\n",
       "      <td>65.677205</td>\n",
       "      <td>21.301176</td>\n",
       "      <td>13.273881</td>\n",
       "      <td>51.378517</td>\n",
       "      <td>67.820065</td>\n",
       "      <td>80.471993</td>\n",
       "      <td>108.453246</td>\n",
       "      <td>82.0</td>\n",
       "      <td>31.421309</td>\n",
       "      <td>...</td>\n",
       "      <td>40.046812</td>\n",
       "      <td>61.977182</td>\n",
       "      <td>82.0</td>\n",
       "      <td>17525.958772</td>\n",
       "      <td>3374.896473</td>\n",
       "      <td>8479.774290</td>\n",
       "      <td>15199.646130</td>\n",
       "      <td>17937.931997</td>\n",
       "      <td>19280.666938</td>\n",
       "      <td>27837.933111</td>\n",
       "    </tr>\n",
       "    <tr>\n",
       "      <th>Poor</th>\n",
       "      <td>98.0</td>\n",
       "      <td>62.696523</td>\n",
       "      <td>24.348643</td>\n",
       "      <td>-6.344046</td>\n",
       "      <td>47.456631</td>\n",
       "      <td>60.354964</td>\n",
       "      <td>78.467566</td>\n",
       "      <td>118.552099</td>\n",
       "      <td>98.0</td>\n",
       "      <td>29.377758</td>\n",
       "      <td>...</td>\n",
       "      <td>35.551869</td>\n",
       "      <td>58.426323</td>\n",
       "      <td>98.0</td>\n",
       "      <td>17952.611052</td>\n",
       "      <td>3620.001493</td>\n",
       "      <td>9254.481652</td>\n",
       "      <td>15357.160260</td>\n",
       "      <td>18127.231059</td>\n",
       "      <td>20390.222862</td>\n",
       "      <td>27037.810898</td>\n",
       "    </tr>\n",
       "    <tr>\n",
       "      <th>Rich</th>\n",
       "      <td>78.0</td>\n",
       "      <td>59.442084</td>\n",
       "      <td>23.685796</td>\n",
       "      <td>5.368872</td>\n",
       "      <td>38.677686</td>\n",
       "      <td>62.551779</td>\n",
       "      <td>75.595206</td>\n",
       "      <td>119.621464</td>\n",
       "      <td>78.0</td>\n",
       "      <td>31.400987</td>\n",
       "      <td>...</td>\n",
       "      <td>39.061231</td>\n",
       "      <td>72.986254</td>\n",
       "      <td>78.0</td>\n",
       "      <td>17881.607682</td>\n",
       "      <td>3407.430347</td>\n",
       "      <td>7981.677772</td>\n",
       "      <td>15482.750851</td>\n",
       "      <td>17824.447753</td>\n",
       "      <td>19993.328343</td>\n",
       "      <td>27379.173342</td>\n",
       "    </tr>\n",
       "    <tr>\n",
       "      <th rowspan=\"3\" valign=\"top\">Male</th>\n",
       "      <th>Middle Class</th>\n",
       "      <td>83.0</td>\n",
       "      <td>67.940447</td>\n",
       "      <td>24.780180</td>\n",
       "      <td>6.418252</td>\n",
       "      <td>47.538706</td>\n",
       "      <td>70.435071</td>\n",
       "      <td>85.387269</td>\n",
       "      <td>129.548357</td>\n",
       "      <td>83.0</td>\n",
       "      <td>30.096416</td>\n",
       "      <td>...</td>\n",
       "      <td>37.881805</td>\n",
       "      <td>54.437924</td>\n",
       "      <td>83.0</td>\n",
       "      <td>17386.038819</td>\n",
       "      <td>3519.496879</td>\n",
       "      <td>9119.170307</td>\n",
       "      <td>14997.724377</td>\n",
       "      <td>17128.386378</td>\n",
       "      <td>19592.326719</td>\n",
       "      <td>26983.318669</td>\n",
       "    </tr>\n",
       "    <tr>\n",
       "      <th>Poor</th>\n",
       "      <td>77.0</td>\n",
       "      <td>62.224512</td>\n",
       "      <td>25.959153</td>\n",
       "      <td>9.774855</td>\n",
       "      <td>45.170742</td>\n",
       "      <td>58.007232</td>\n",
       "      <td>81.230762</td>\n",
       "      <td>141.967147</td>\n",
       "      <td>77.0</td>\n",
       "      <td>28.405028</td>\n",
       "      <td>...</td>\n",
       "      <td>36.707315</td>\n",
       "      <td>60.613040</td>\n",
       "      <td>77.0</td>\n",
       "      <td>18695.712180</td>\n",
       "      <td>3625.130264</td>\n",
       "      <td>11298.703171</td>\n",
       "      <td>15886.710971</td>\n",
       "      <td>18506.081797</td>\n",
       "      <td>21451.568566</td>\n",
       "      <td>26444.197512</td>\n",
       "    </tr>\n",
       "    <tr>\n",
       "      <th>Rich</th>\n",
       "      <td>82.0</td>\n",
       "      <td>71.694343</td>\n",
       "      <td>23.072896</td>\n",
       "      <td>21.472826</td>\n",
       "      <td>54.852531</td>\n",
       "      <td>70.200103</td>\n",
       "      <td>87.620925</td>\n",
       "      <td>116.647362</td>\n",
       "      <td>82.0</td>\n",
       "      <td>29.199979</td>\n",
       "      <td>...</td>\n",
       "      <td>36.333222</td>\n",
       "      <td>56.121596</td>\n",
       "      <td>82.0</td>\n",
       "      <td>18827.230260</td>\n",
       "      <td>3714.218934</td>\n",
       "      <td>11487.101962</td>\n",
       "      <td>16044.633068</td>\n",
       "      <td>18959.962376</td>\n",
       "      <td>21565.709162</td>\n",
       "      <td>26835.776191</td>\n",
       "    </tr>\n",
       "  </tbody>\n",
       "</table>\n",
       "<p>6 rows × 24 columns</p>\n",
       "</div>"
      ],
      "text/plain": [
       "                       Height                                              \\\n",
       "                        count       mean        std        min        25%   \n",
       "Gender Economic Status                                                      \n",
       "Female Middle Class      82.0  65.677205  21.301176  13.273881  51.378517   \n",
       "       Poor              98.0  62.696523  24.348643  -6.344046  47.456631   \n",
       "       Rich              78.0  59.442084  23.685796   5.368872  38.677686   \n",
       "Male   Middle Class      83.0  67.940447  24.780180   6.418252  47.538706   \n",
       "       Poor              77.0  62.224512  25.959153   9.774855  45.170742   \n",
       "       Rich              82.0  71.694343  23.072896  21.472826  54.852531   \n",
       "\n",
       "                                                           Age             \\\n",
       "                              50%        75%         max count       mean   \n",
       "Gender Economic Status                                                      \n",
       "Female Middle Class     67.820065  80.471993  108.453246  82.0  31.421309   \n",
       "       Poor             60.354964  78.467566  118.552099  98.0  29.377758   \n",
       "       Rich             62.551779  75.595206  119.621464  78.0  31.400987   \n",
       "Male   Middle Class     70.435071  85.387269  129.548357  83.0  30.096416   \n",
       "       Poor             58.007232  81.230762  141.967147  77.0  28.405028   \n",
       "       Rich             70.200103  87.620925  116.647362  82.0  29.199979   \n",
       "\n",
       "                        ...                       Income                \\\n",
       "                        ...        75%        max  count          mean   \n",
       "Gender Economic Status  ...                                              \n",
       "Female Middle Class     ...  40.046812  61.977182   82.0  17525.958772   \n",
       "       Poor             ...  35.551869  58.426323   98.0  17952.611052   \n",
       "       Rich             ...  39.061231  72.986254   78.0  17881.607682   \n",
       "Male   Middle Class     ...  37.881805  54.437924   83.0  17386.038819   \n",
       "       Poor             ...  36.707315  60.613040   77.0  18695.712180   \n",
       "       Rich             ...  36.333222  56.121596   82.0  18827.230260   \n",
       "\n",
       "                                                                               \\\n",
       "                                std           min           25%           50%   \n",
       "Gender Economic Status                                                          \n",
       "Female Middle Class     3374.896473   8479.774290  15199.646130  17937.931997   \n",
       "       Poor             3620.001493   9254.481652  15357.160260  18127.231059   \n",
       "       Rich             3407.430347   7981.677772  15482.750851  17824.447753   \n",
       "Male   Middle Class     3519.496879   9119.170307  14997.724377  17128.386378   \n",
       "       Poor             3625.130264  11298.703171  15886.710971  18506.081797   \n",
       "       Rich             3714.218934  11487.101962  16044.633068  18959.962376   \n",
       "\n",
       "                                                    \n",
       "                                 75%           max  \n",
       "Gender Economic Status                              \n",
       "Female Middle Class     19280.666938  27837.933111  \n",
       "       Poor             20390.222862  27037.810898  \n",
       "       Rich             19993.328343  27379.173342  \n",
       "Male   Middle Class     19592.326719  26983.318669  \n",
       "       Poor             21451.568566  26444.197512  \n",
       "       Rich             21565.709162  26835.776191  \n",
       "\n",
       "[6 rows x 24 columns]"
      ]
     },
     "execution_count": 15,
     "metadata": {},
     "output_type": "execute_result"
    }
   ],
   "source": [
    "double_group.describe()"
   ]
  },
  {
   "cell_type": "code",
   "execution_count": 16,
   "id": "092cb630",
   "metadata": {},
   "outputs": [
    {
     "data": {
      "text/html": [
       "<div>\n",
       "<style scoped>\n",
       "    .dataframe tbody tr th:only-of-type {\n",
       "        vertical-align: middle;\n",
       "    }\n",
       "\n",
       "    .dataframe tbody tr th {\n",
       "        vertical-align: top;\n",
       "    }\n",
       "\n",
       "    .dataframe thead th {\n",
       "        text-align: right;\n",
       "    }\n",
       "</style>\n",
       "<table border=\"1\" class=\"dataframe\">\n",
       "  <thead>\n",
       "    <tr style=\"text-align: right;\">\n",
       "      <th></th>\n",
       "      <th></th>\n",
       "      <th>count</th>\n",
       "      <th>mean</th>\n",
       "      <th>std</th>\n",
       "      <th>min</th>\n",
       "      <th>25%</th>\n",
       "      <th>50%</th>\n",
       "      <th>75%</th>\n",
       "      <th>max</th>\n",
       "    </tr>\n",
       "    <tr>\n",
       "      <th>Gender</th>\n",
       "      <th>Economic Status</th>\n",
       "      <th></th>\n",
       "      <th></th>\n",
       "      <th></th>\n",
       "      <th></th>\n",
       "      <th></th>\n",
       "      <th></th>\n",
       "      <th></th>\n",
       "      <th></th>\n",
       "    </tr>\n",
       "  </thead>\n",
       "  <tbody>\n",
       "    <tr>\n",
       "      <th rowspan=\"3\" valign=\"top\">Female</th>\n",
       "      <th>Middle Class</th>\n",
       "      <td>82.0</td>\n",
       "      <td>17525.958772</td>\n",
       "      <td>3374.896473</td>\n",
       "      <td>8479.774290</td>\n",
       "      <td>15199.646130</td>\n",
       "      <td>17937.931997</td>\n",
       "      <td>19280.666938</td>\n",
       "      <td>27837.933111</td>\n",
       "    </tr>\n",
       "    <tr>\n",
       "      <th>Poor</th>\n",
       "      <td>98.0</td>\n",
       "      <td>17952.611052</td>\n",
       "      <td>3620.001493</td>\n",
       "      <td>9254.481652</td>\n",
       "      <td>15357.160260</td>\n",
       "      <td>18127.231059</td>\n",
       "      <td>20390.222862</td>\n",
       "      <td>27037.810898</td>\n",
       "    </tr>\n",
       "    <tr>\n",
       "      <th>Rich</th>\n",
       "      <td>78.0</td>\n",
       "      <td>17881.607682</td>\n",
       "      <td>3407.430347</td>\n",
       "      <td>7981.677772</td>\n",
       "      <td>15482.750851</td>\n",
       "      <td>17824.447753</td>\n",
       "      <td>19993.328343</td>\n",
       "      <td>27379.173342</td>\n",
       "    </tr>\n",
       "    <tr>\n",
       "      <th rowspan=\"3\" valign=\"top\">Male</th>\n",
       "      <th>Middle Class</th>\n",
       "      <td>83.0</td>\n",
       "      <td>17386.038819</td>\n",
       "      <td>3519.496879</td>\n",
       "      <td>9119.170307</td>\n",
       "      <td>14997.724377</td>\n",
       "      <td>17128.386378</td>\n",
       "      <td>19592.326719</td>\n",
       "      <td>26983.318669</td>\n",
       "    </tr>\n",
       "    <tr>\n",
       "      <th>Poor</th>\n",
       "      <td>77.0</td>\n",
       "      <td>18695.712180</td>\n",
       "      <td>3625.130264</td>\n",
       "      <td>11298.703171</td>\n",
       "      <td>15886.710971</td>\n",
       "      <td>18506.081797</td>\n",
       "      <td>21451.568566</td>\n",
       "      <td>26444.197512</td>\n",
       "    </tr>\n",
       "    <tr>\n",
       "      <th>Rich</th>\n",
       "      <td>82.0</td>\n",
       "      <td>18827.230260</td>\n",
       "      <td>3714.218934</td>\n",
       "      <td>11487.101962</td>\n",
       "      <td>16044.633068</td>\n",
       "      <td>18959.962376</td>\n",
       "      <td>21565.709162</td>\n",
       "      <td>26835.776191</td>\n",
       "    </tr>\n",
       "  </tbody>\n",
       "</table>\n",
       "</div>"
      ],
      "text/plain": [
       "                        count          mean          std           min  \\\n",
       "Gender Economic Status                                                   \n",
       "Female Middle Class      82.0  17525.958772  3374.896473   8479.774290   \n",
       "       Poor              98.0  17952.611052  3620.001493   9254.481652   \n",
       "       Rich              78.0  17881.607682  3407.430347   7981.677772   \n",
       "Male   Middle Class      83.0  17386.038819  3519.496879   9119.170307   \n",
       "       Poor              77.0  18695.712180  3625.130264  11298.703171   \n",
       "       Rich              82.0  18827.230260  3714.218934  11487.101962   \n",
       "\n",
       "                                 25%           50%           75%           max  \n",
       "Gender Economic Status                                                          \n",
       "Female Middle Class     15199.646130  17937.931997  19280.666938  27837.933111  \n",
       "       Poor             15357.160260  18127.231059  20390.222862  27037.810898  \n",
       "       Rich             15482.750851  17824.447753  19993.328343  27379.173342  \n",
       "Male   Middle Class     14997.724377  17128.386378  19592.326719  26983.318669  \n",
       "       Poor             15886.710971  18506.081797  21451.568566  26444.197512  \n",
       "       Rich             16044.633068  18959.962376  21565.709162  26835.776191  "
      ]
     },
     "execution_count": 16,
     "metadata": {},
     "output_type": "execute_result"
    }
   ],
   "source": [
    "grouped_income = double_group[\"Income\"]\n",
    "\n",
    "grouped_income.describe()"
   ]
  },
  {
   "cell_type": "code",
   "execution_count": 19,
   "id": "18a2484d",
   "metadata": {},
   "outputs": [
    {
     "data": {
      "text/html": [
       "<div>\n",
       "<style scoped>\n",
       "    .dataframe tbody tr th:only-of-type {\n",
       "        vertical-align: middle;\n",
       "    }\n",
       "\n",
       "    .dataframe tbody tr th {\n",
       "        vertical-align: top;\n",
       "    }\n",
       "\n",
       "    .dataframe thead th {\n",
       "        text-align: right;\n",
       "    }\n",
       "</style>\n",
       "<table border=\"1\" class=\"dataframe\">\n",
       "  <thead>\n",
       "    <tr style=\"text-align: right;\">\n",
       "      <th></th>\n",
       "      <th></th>\n",
       "      <th>Income</th>\n",
       "      <th>Age</th>\n",
       "      <th>Height</th>\n",
       "    </tr>\n",
       "    <tr>\n",
       "      <th>Gender</th>\n",
       "      <th>Economic Status</th>\n",
       "      <th></th>\n",
       "      <th></th>\n",
       "      <th></th>\n",
       "    </tr>\n",
       "  </thead>\n",
       "  <tbody>\n",
       "    <tr>\n",
       "      <th rowspan=\"3\" valign=\"top\">Female</th>\n",
       "      <th>Middle Class</th>\n",
       "      <td>1.437129e+06</td>\n",
       "      <td>31.421309</td>\n",
       "      <td>21.301176</td>\n",
       "    </tr>\n",
       "    <tr>\n",
       "      <th>Poor</th>\n",
       "      <td>1.759356e+06</td>\n",
       "      <td>29.377758</td>\n",
       "      <td>24.348643</td>\n",
       "    </tr>\n",
       "    <tr>\n",
       "      <th>Rich</th>\n",
       "      <td>1.394765e+06</td>\n",
       "      <td>31.400987</td>\n",
       "      <td>23.685796</td>\n",
       "    </tr>\n",
       "    <tr>\n",
       "      <th rowspan=\"3\" valign=\"top\">Male</th>\n",
       "      <th>Middle Class</th>\n",
       "      <td>1.443041e+06</td>\n",
       "      <td>30.096416</td>\n",
       "      <td>24.780180</td>\n",
       "    </tr>\n",
       "    <tr>\n",
       "      <th>Poor</th>\n",
       "      <td>1.439570e+06</td>\n",
       "      <td>28.405028</td>\n",
       "      <td>25.959153</td>\n",
       "    </tr>\n",
       "    <tr>\n",
       "      <th>Rich</th>\n",
       "      <td>1.543833e+06</td>\n",
       "      <td>29.199979</td>\n",
       "      <td>23.072896</td>\n",
       "    </tr>\n",
       "  </tbody>\n",
       "</table>\n",
       "</div>"
      ],
      "text/plain": [
       "                              Income        Age     Height\n",
       "Gender Economic Status                                    \n",
       "Female Middle Class     1.437129e+06  31.421309  21.301176\n",
       "       Poor             1.759356e+06  29.377758  24.348643\n",
       "       Rich             1.394765e+06  31.400987  23.685796\n",
       "Male   Middle Class     1.443041e+06  30.096416  24.780180\n",
       "       Poor             1.439570e+06  28.405028  25.959153\n",
       "       Rich             1.543833e+06  29.199979  23.072896"
      ]
     },
     "execution_count": 19,
     "metadata": {},
     "output_type": "execute_result"
    }
   ],
   "source": [
    "double_group.aggregate(\n",
    "    {\n",
    "        \"Income\": np.sum,\n",
    "        \"Age\": np.mean,\n",
    "        \"Height\": np.std\n",
    "    }\n",
    ")"
   ]
  },
  {
   "cell_type": "code",
   "execution_count": 20,
   "id": "15e0ee2a",
   "metadata": {},
   "outputs": [
    {
     "data": {
      "text/html": [
       "<div>\n",
       "<style scoped>\n",
       "    .dataframe tbody tr th:only-of-type {\n",
       "        vertical-align: middle;\n",
       "    }\n",
       "\n",
       "    .dataframe tbody tr th {\n",
       "        vertical-align: top;\n",
       "    }\n",
       "\n",
       "    .dataframe thead th {\n",
       "        text-align: right;\n",
       "    }\n",
       "</style>\n",
       "<table border=\"1\" class=\"dataframe\">\n",
       "  <thead>\n",
       "    <tr style=\"text-align: right;\">\n",
       "      <th></th>\n",
       "      <th></th>\n",
       "      <th>Age</th>\n",
       "      <th>Height</th>\n",
       "    </tr>\n",
       "    <tr>\n",
       "      <th>Gender</th>\n",
       "      <th>Economic Status</th>\n",
       "      <th></th>\n",
       "      <th></th>\n",
       "    </tr>\n",
       "  </thead>\n",
       "  <tbody>\n",
       "    <tr>\n",
       "      <th rowspan=\"3\" valign=\"top\">Female</th>\n",
       "      <th>Middle Class</th>\n",
       "      <td>31.421309</td>\n",
       "      <td>3.102241</td>\n",
       "    </tr>\n",
       "    <tr>\n",
       "      <th>Poor</th>\n",
       "      <td>29.377758</td>\n",
       "      <td>2.588188</td>\n",
       "    </tr>\n",
       "    <tr>\n",
       "      <th>Rich</th>\n",
       "      <td>31.400987</td>\n",
       "      <td>2.525852</td>\n",
       "    </tr>\n",
       "    <tr>\n",
       "      <th rowspan=\"3\" valign=\"top\">Male</th>\n",
       "      <th>Middle Class</th>\n",
       "      <td>30.096416</td>\n",
       "      <td>2.758392</td>\n",
       "    </tr>\n",
       "    <tr>\n",
       "      <th>Poor</th>\n",
       "      <td>28.405028</td>\n",
       "      <td>2.412735</td>\n",
       "    </tr>\n",
       "    <tr>\n",
       "      <th>Rich</th>\n",
       "      <td>29.199979</td>\n",
       "      <td>3.126419</td>\n",
       "    </tr>\n",
       "  </tbody>\n",
       "</table>\n",
       "</div>"
      ],
      "text/plain": [
       "                              Age    Height\n",
       "Gender Economic Status                     \n",
       "Female Middle Class     31.421309  3.102241\n",
       "       Poor             29.377758  2.588188\n",
       "       Rich             31.400987  2.525852\n",
       "Male   Middle Class     30.096416  2.758392\n",
       "       Poor             28.405028  2.412735\n",
       "       Rich             29.199979  3.126419"
      ]
     },
     "execution_count": 20,
     "metadata": {},
     "output_type": "execute_result"
    }
   ],
   "source": [
    "double_group.aggregate(\n",
    "    {\n",
    "        \"Age\": np.mean,\n",
    "        \"Height\": lambda h: np.mean(h)/np.std(h),\n",
    "    }\n",
    ")"
   ]
  },
  {
   "cell_type": "code",
   "execution_count": 23,
   "id": "f64ab29d",
   "metadata": {
    "scrolled": true
   },
   "outputs": [
    {
     "data": {
      "text/html": [
       "<div>\n",
       "<style scoped>\n",
       "    .dataframe tbody tr th:only-of-type {\n",
       "        vertical-align: middle;\n",
       "    }\n",
       "\n",
       "    .dataframe tbody tr th {\n",
       "        vertical-align: top;\n",
       "    }\n",
       "\n",
       "    .dataframe thead tr th {\n",
       "        text-align: left;\n",
       "    }\n",
       "\n",
       "    .dataframe thead tr:last-of-type th {\n",
       "        text-align: right;\n",
       "    }\n",
       "</style>\n",
       "<table border=\"1\" class=\"dataframe\">\n",
       "  <thead>\n",
       "    <tr>\n",
       "      <th></th>\n",
       "      <th></th>\n",
       "      <th colspan=\"2\" halign=\"left\">Height</th>\n",
       "      <th colspan=\"2\" halign=\"left\">Age</th>\n",
       "      <th colspan=\"2\" halign=\"left\">Income</th>\n",
       "    </tr>\n",
       "    <tr>\n",
       "      <th></th>\n",
       "      <th></th>\n",
       "      <th>sum</th>\n",
       "      <th>mean</th>\n",
       "      <th>sum</th>\n",
       "      <th>mean</th>\n",
       "      <th>sum</th>\n",
       "      <th>mean</th>\n",
       "    </tr>\n",
       "    <tr>\n",
       "      <th>Gender</th>\n",
       "      <th>Economic Status</th>\n",
       "      <th></th>\n",
       "      <th></th>\n",
       "      <th></th>\n",
       "      <th></th>\n",
       "      <th></th>\n",
       "      <th></th>\n",
       "    </tr>\n",
       "  </thead>\n",
       "  <tbody>\n",
       "    <tr>\n",
       "      <th rowspan=\"3\" valign=\"top\">Female</th>\n",
       "      <th>Middle Class</th>\n",
       "      <td>5385.530805</td>\n",
       "      <td>65.677205</td>\n",
       "      <td>2576.547335</td>\n",
       "      <td>31.421309</td>\n",
       "      <td>1.437129e+06</td>\n",
       "      <td>17525.958772</td>\n",
       "    </tr>\n",
       "    <tr>\n",
       "      <th>Poor</th>\n",
       "      <td>6144.259303</td>\n",
       "      <td>62.696523</td>\n",
       "      <td>2879.020308</td>\n",
       "      <td>29.377758</td>\n",
       "      <td>1.759356e+06</td>\n",
       "      <td>17952.611052</td>\n",
       "    </tr>\n",
       "    <tr>\n",
       "      <th>Rich</th>\n",
       "      <td>4636.482569</td>\n",
       "      <td>59.442084</td>\n",
       "      <td>2449.276960</td>\n",
       "      <td>31.400987</td>\n",
       "      <td>1.394765e+06</td>\n",
       "      <td>17881.607682</td>\n",
       "    </tr>\n",
       "    <tr>\n",
       "      <th rowspan=\"3\" valign=\"top\">Male</th>\n",
       "      <th>Middle Class</th>\n",
       "      <td>5639.057107</td>\n",
       "      <td>67.940447</td>\n",
       "      <td>2498.002510</td>\n",
       "      <td>30.096416</td>\n",
       "      <td>1.443041e+06</td>\n",
       "      <td>17386.038819</td>\n",
       "    </tr>\n",
       "    <tr>\n",
       "      <th>Poor</th>\n",
       "      <td>4791.287437</td>\n",
       "      <td>62.224512</td>\n",
       "      <td>2187.187122</td>\n",
       "      <td>28.405028</td>\n",
       "      <td>1.439570e+06</td>\n",
       "      <td>18695.712180</td>\n",
       "    </tr>\n",
       "    <tr>\n",
       "      <th>Rich</th>\n",
       "      <td>5878.936105</td>\n",
       "      <td>71.694343</td>\n",
       "      <td>2394.398287</td>\n",
       "      <td>29.199979</td>\n",
       "      <td>1.543833e+06</td>\n",
       "      <td>18827.230260</td>\n",
       "    </tr>\n",
       "  </tbody>\n",
       "</table>\n",
       "</div>"
      ],
      "text/plain": [
       "                             Height                     Age             \\\n",
       "                                sum       mean          sum       mean   \n",
       "Gender Economic Status                                                   \n",
       "Female Middle Class     5385.530805  65.677205  2576.547335  31.421309   \n",
       "       Poor             6144.259303  62.696523  2879.020308  29.377758   \n",
       "       Rich             4636.482569  59.442084  2449.276960  31.400987   \n",
       "Male   Middle Class     5639.057107  67.940447  2498.002510  30.096416   \n",
       "       Poor             4791.287437  62.224512  2187.187122  28.405028   \n",
       "       Rich             5878.936105  71.694343  2394.398287  29.199979   \n",
       "\n",
       "                              Income                \n",
       "                                 sum          mean  \n",
       "Gender Economic Status                              \n",
       "Female Middle Class     1.437129e+06  17525.958772  \n",
       "       Poor             1.759356e+06  17952.611052  \n",
       "       Rich             1.394765e+06  17881.607682  \n",
       "Male   Middle Class     1.443041e+06  17386.038819  \n",
       "       Poor             1.439570e+06  18695.712180  \n",
       "       Rich             1.543833e+06  18827.230260  "
      ]
     },
     "execution_count": 23,
     "metadata": {},
     "output_type": "execute_result"
    }
   ],
   "source": [
    "double_group.aggregate([np.sum, np.mean])"
   ]
  },
  {
   "cell_type": "markdown",
   "id": "774e5a51",
   "metadata": {},
   "source": [
    "## Filtrado de datos"
   ]
  },
  {
   "cell_type": "code",
   "execution_count": 29,
   "id": "3f75fb90",
   "metadata": {},
   "outputs": [
    {
     "data": {
      "text/plain": [
       "0      37.793333\n",
       "1      38.646274\n",
       "2      28.004785\n",
       "4      31.932755\n",
       "7      -1.484832\n",
       "         ...    \n",
       "494    23.974540\n",
       "495    22.298742\n",
       "496    40.289535\n",
       "498    21.619458\n",
       "499     7.299765\n",
       "Name: Age, Length: 341, dtype: float64"
      ]
     },
     "execution_count": 29,
     "metadata": {},
     "output_type": "execute_result"
    }
   ],
   "source": [
    "double_group[\"Age\"].filter(lambda x: x.sum() > 2400)"
   ]
  },
  {
   "cell_type": "markdown",
   "id": "da956853",
   "metadata": {},
   "source": [
    "## Trasformación de variables"
   ]
  },
  {
   "cell_type": "code",
   "execution_count": 35,
   "id": "5644b428",
   "metadata": {},
   "outputs": [],
   "source": [
    "zscore = lambda x: ( x - x.mean() ) / x.std()\n",
    "\n",
    "z_group = double_group.transform(zscore)"
   ]
  },
  {
   "cell_type": "code",
   "execution_count": 37,
   "id": "09b6db57",
   "metadata": {},
   "outputs": [],
   "source": [
    "import matplotlib.pyplot as plt"
   ]
  },
  {
   "cell_type": "code",
   "execution_count": 38,
   "id": "6ee3c631",
   "metadata": {},
   "outputs": [
    {
     "data": {
      "text/plain": [
       "(array([  1.,   8.,  25.,  77., 109., 128., 104.,  34.,  11.,   3.]),\n",
       " array([-3.50141134, -2.82488037, -2.14834939, -1.47181842, -0.79528744,\n",
       "        -0.11875647,  0.55777451,  1.23430548,  1.91083646,  2.58736744,\n",
       "         3.26389841]),\n",
       " <BarContainer object of 10 artists>)"
      ]
     },
     "execution_count": 38,
     "metadata": {},
     "output_type": "execute_result"
    },
    {
     "data": {
      "image/png": "[encoded data removed]",
      "text/plain": [
       "<Figure size 432x288 with 1 Axes>"
      ]
     },
     "metadata": {
      "needs_background": "light"
     },
     "output_type": "display_data"
    }
   ],
   "source": [
    "plt.hist(z_group[\"Age\"])"
   ]
  },
  {
   "cell_type": "code",
   "execution_count": 39,
   "id": "0503ddd7",
   "metadata": {},
   "outputs": [
    {
     "data": {
      "text/html": [
       "<div>\n",
       "<style scoped>\n",
       "    .dataframe tbody tr th:only-of-type {\n",
       "        vertical-align: middle;\n",
       "    }\n",
       "\n",
       "    .dataframe tbody tr th {\n",
       "        vertical-align: top;\n",
       "    }\n",
       "\n",
       "    .dataframe thead th {\n",
       "        text-align: right;\n",
       "    }\n",
       "</style>\n",
       "<table border=\"1\" class=\"dataframe\">\n",
       "  <thead>\n",
       "    <tr style=\"text-align: right;\">\n",
       "      <th></th>\n",
       "      <th>Height</th>\n",
       "      <th>Age</th>\n",
       "      <th>Income</th>\n",
       "    </tr>\n",
       "  </thead>\n",
       "  <tbody>\n",
       "    <tr>\n",
       "      <th>0</th>\n",
       "      <td>49.527278</td>\n",
       "      <td>37.793333</td>\n",
       "      <td>20431.551003</td>\n",
       "    </tr>\n",
       "    <tr>\n",
       "      <th>1</th>\n",
       "      <td>22.340759</td>\n",
       "      <td>38.646274</td>\n",
       "      <td>14514.262893</td>\n",
       "    </tr>\n",
       "    <tr>\n",
       "      <th>2</th>\n",
       "      <td>86.223924</td>\n",
       "      <td>28.004785</td>\n",
       "      <td>22278.597871</td>\n",
       "    </tr>\n",
       "    <tr>\n",
       "      <th>3</th>\n",
       "      <td>67.107455</td>\n",
       "      <td>32.208059</td>\n",
       "      <td>24217.879368</td>\n",
       "    </tr>\n",
       "    <tr>\n",
       "      <th>4</th>\n",
       "      <td>42.697664</td>\n",
       "      <td>31.932755</td>\n",
       "      <td>15400.441744</td>\n",
       "    </tr>\n",
       "    <tr>\n",
       "      <th>...</th>\n",
       "      <td>...</td>\n",
       "      <td>...</td>\n",
       "      <td>...</td>\n",
       "    </tr>\n",
       "    <tr>\n",
       "      <th>495</th>\n",
       "      <td>41.623510</td>\n",
       "      <td>22.298742</td>\n",
       "      <td>16909.501414</td>\n",
       "    </tr>\n",
       "    <tr>\n",
       "      <th>496</th>\n",
       "      <td>99.638427</td>\n",
       "      <td>40.289535</td>\n",
       "      <td>24960.379558</td>\n",
       "    </tr>\n",
       "    <tr>\n",
       "      <th>497</th>\n",
       "      <td>62.993777</td>\n",
       "      <td>15.283793</td>\n",
       "      <td>17794.765964</td>\n",
       "    </tr>\n",
       "    <tr>\n",
       "      <th>498</th>\n",
       "      <td>58.867400</td>\n",
       "      <td>21.619458</td>\n",
       "      <td>20595.286157</td>\n",
       "    </tr>\n",
       "    <tr>\n",
       "      <th>499</th>\n",
       "      <td>90.084977</td>\n",
       "      <td>7.299765</td>\n",
       "      <td>16017.144861</td>\n",
       "    </tr>\n",
       "  </tbody>\n",
       "</table>\n",
       "<p>500 rows × 3 columns</p>\n",
       "</div>"
      ],
      "text/plain": [
       "        Height        Age        Income\n",
       "0    49.527278  37.793333  20431.551003\n",
       "1    22.340759  38.646274  14514.262893\n",
       "2    86.223924  28.004785  22278.597871\n",
       "3    67.107455  32.208059  24217.879368\n",
       "4    42.697664  31.932755  15400.441744\n",
       "..         ...        ...           ...\n",
       "495  41.623510  22.298742  16909.501414\n",
       "496  99.638427  40.289535  24960.379558\n",
       "497  62.993777  15.283793  17794.765964\n",
       "498  58.867400  21.619458  20595.286157\n",
       "499  90.084977   7.299765  16017.144861\n",
       "\n",
       "[500 rows x 3 columns]"
      ]
     },
     "execution_count": 39,
     "metadata": {},
     "output_type": "execute_result"
    }
   ],
   "source": [
    "fill_na_mean = lambda x: x.fillna(x.mean())\n",
    "\n",
    "double_group.transform(fill_na_mean)"
   ]
  },
  {
   "cell_type": "markdown",
   "id": "2e79ae72",
   "metadata": {},
   "source": [
    "## Operaciones diversas muy útiles"
   ]
  },
  {
   "cell_type": "code",
   "execution_count": 41,
   "id": "aaaf874a",
   "metadata": {},
   "outputs": [
    {
     "data": {
      "text/html": [
       "<div>\n",
       "<style scoped>\n",
       "    .dataframe tbody tr th:only-of-type {\n",
       "        vertical-align: middle;\n",
       "    }\n",
       "\n",
       "    .dataframe tbody tr th {\n",
       "        vertical-align: top;\n",
       "    }\n",
       "\n",
       "    .dataframe thead th {\n",
       "        text-align: right;\n",
       "    }\n",
       "</style>\n",
       "<table border=\"1\" class=\"dataframe\">\n",
       "  <thead>\n",
       "    <tr style=\"text-align: right;\">\n",
       "      <th></th>\n",
       "      <th>Gender</th>\n",
       "      <th>Economic Status</th>\n",
       "      <th>Height</th>\n",
       "      <th>Age</th>\n",
       "      <th>Income</th>\n",
       "    </tr>\n",
       "  </thead>\n",
       "  <tbody>\n",
       "    <tr>\n",
       "      <th>0</th>\n",
       "      <td>Female</td>\n",
       "      <td>Poor</td>\n",
       "      <td>49.527278</td>\n",
       "      <td>37.793333</td>\n",
       "      <td>20431.551003</td>\n",
       "    </tr>\n",
       "    <tr>\n",
       "      <th>1</th>\n",
       "      <td>Female</td>\n",
       "      <td>Rich</td>\n",
       "      <td>22.340759</td>\n",
       "      <td>38.646274</td>\n",
       "      <td>14514.262893</td>\n",
       "    </tr>\n",
       "    <tr>\n",
       "      <th>3</th>\n",
       "      <td>Male</td>\n",
       "      <td>Rich</td>\n",
       "      <td>67.107455</td>\n",
       "      <td>32.208059</td>\n",
       "      <td>24217.879368</td>\n",
       "    </tr>\n",
       "    <tr>\n",
       "      <th>4</th>\n",
       "      <td>Male</td>\n",
       "      <td>Middle Class</td>\n",
       "      <td>42.697664</td>\n",
       "      <td>31.932755</td>\n",
       "      <td>15400.441744</td>\n",
       "    </tr>\n",
       "    <tr>\n",
       "      <th>5</th>\n",
       "      <td>Male</td>\n",
       "      <td>Poor</td>\n",
       "      <td>84.376755</td>\n",
       "      <td>40.471468</td>\n",
       "      <td>11383.022491</td>\n",
       "    </tr>\n",
       "    <tr>\n",
       "      <th>7</th>\n",
       "      <td>Female</td>\n",
       "      <td>Middle Class</td>\n",
       "      <td>69.448671</td>\n",
       "      <td>-1.484832</td>\n",
       "      <td>12521.218820</td>\n",
       "    </tr>\n",
       "  </tbody>\n",
       "</table>\n",
       "</div>"
      ],
      "text/plain": [
       "   Gender Economic Status     Height        Age        Income\n",
       "0  Female            Poor  49.527278  37.793333  20431.551003\n",
       "1  Female            Rich  22.340759  38.646274  14514.262893\n",
       "3    Male            Rich  67.107455  32.208059  24217.879368\n",
       "4    Male    Middle Class  42.697664  31.932755  15400.441744\n",
       "5    Male            Poor  84.376755  40.471468  11383.022491\n",
       "7  Female    Middle Class  69.448671  -1.484832  12521.218820"
      ]
     },
     "execution_count": 41,
     "metadata": {},
     "output_type": "execute_result"
    }
   ],
   "source": [
    "double_group.head(1)"
   ]
  },
  {
   "cell_type": "code",
   "execution_count": 43,
   "id": "cfc8df54",
   "metadata": {},
   "outputs": [
    {
     "data": {
      "text/html": [
       "<div>\n",
       "<style scoped>\n",
       "    .dataframe tbody tr th:only-of-type {\n",
       "        vertical-align: middle;\n",
       "    }\n",
       "\n",
       "    .dataframe tbody tr th {\n",
       "        vertical-align: top;\n",
       "    }\n",
       "\n",
       "    .dataframe thead th {\n",
       "        text-align: right;\n",
       "    }\n",
       "</style>\n",
       "<table border=\"1\" class=\"dataframe\">\n",
       "  <thead>\n",
       "    <tr style=\"text-align: right;\">\n",
       "      <th></th>\n",
       "      <th></th>\n",
       "      <th>Height</th>\n",
       "      <th>Age</th>\n",
       "      <th>Income</th>\n",
       "    </tr>\n",
       "    <tr>\n",
       "      <th>Gender</th>\n",
       "      <th>Economic Status</th>\n",
       "      <th></th>\n",
       "      <th></th>\n",
       "      <th></th>\n",
       "    </tr>\n",
       "  </thead>\n",
       "  <tbody>\n",
       "    <tr>\n",
       "      <th rowspan=\"3\" valign=\"top\">Female</th>\n",
       "      <th>Middle Class</th>\n",
       "      <td>103.988201</td>\n",
       "      <td>53.857982</td>\n",
       "      <td>27837.933111</td>\n",
       "    </tr>\n",
       "    <tr>\n",
       "      <th>Poor</th>\n",
       "      <td>69.813010</td>\n",
       "      <td>18.422671</td>\n",
       "      <td>20968.745754</td>\n",
       "    </tr>\n",
       "    <tr>\n",
       "      <th>Rich</th>\n",
       "      <td>59.026375</td>\n",
       "      <td>38.379186</td>\n",
       "      <td>18753.131178</td>\n",
       "    </tr>\n",
       "    <tr>\n",
       "      <th rowspan=\"3\" valign=\"top\">Male</th>\n",
       "      <th>Middle Class</th>\n",
       "      <td>92.054937</td>\n",
       "      <td>39.327129</td>\n",
       "      <td>13994.458988</td>\n",
       "    </tr>\n",
       "    <tr>\n",
       "      <th>Poor</th>\n",
       "      <td>78.298139</td>\n",
       "      <td>23.322847</td>\n",
       "      <td>23801.397359</td>\n",
       "    </tr>\n",
       "    <tr>\n",
       "      <th>Rich</th>\n",
       "      <td>68.451400</td>\n",
       "      <td>32.819953</td>\n",
       "      <td>18377.619947</td>\n",
       "    </tr>\n",
       "  </tbody>\n",
       "</table>\n",
       "</div>"
      ],
      "text/plain": [
       "                            Height        Age        Income\n",
       "Gender Economic Status                                     \n",
       "Female Middle Class     103.988201  53.857982  27837.933111\n",
       "       Poor              69.813010  18.422671  20968.745754\n",
       "       Rich              59.026375  38.379186  18753.131178\n",
       "Male   Middle Class      92.054937  39.327129  13994.458988\n",
       "       Poor              78.298139  23.322847  23801.397359\n",
       "       Rich              68.451400  32.819953  18377.619947"
      ]
     },
     "execution_count": 43,
     "metadata": {},
     "output_type": "execute_result"
    }
   ],
   "source": [
    "double_group.nth(32)"
   ]
  },
  {
   "cell_type": "code",
   "execution_count": 44,
   "id": "c034f3d6",
   "metadata": {},
   "outputs": [],
   "source": [
    "data_sorted = data.sort_values([\"Age\", \"Income\"])"
   ]
  },
  {
   "cell_type": "code",
   "execution_count": 45,
   "id": "fd476724",
   "metadata": {},
   "outputs": [
    {
     "data": {
      "text/html": [
       "<div>\n",
       "<style scoped>\n",
       "    .dataframe tbody tr th:only-of-type {\n",
       "        vertical-align: middle;\n",
       "    }\n",
       "\n",
       "    .dataframe tbody tr th {\n",
       "        vertical-align: top;\n",
       "    }\n",
       "\n",
       "    .dataframe thead th {\n",
       "        text-align: right;\n",
       "    }\n",
       "</style>\n",
       "<table border=\"1\" class=\"dataframe\">\n",
       "  <thead>\n",
       "    <tr style=\"text-align: right;\">\n",
       "      <th></th>\n",
       "      <th>Gender</th>\n",
       "      <th>Economic Status</th>\n",
       "      <th>Height</th>\n",
       "      <th>Age</th>\n",
       "      <th>Income</th>\n",
       "    </tr>\n",
       "  </thead>\n",
       "  <tbody>\n",
       "    <tr>\n",
       "      <th>30</th>\n",
       "      <td>Female</td>\n",
       "      <td>Rich</td>\n",
       "      <td>84.633610</td>\n",
       "      <td>-13.210429</td>\n",
       "      <td>16602.892642</td>\n",
       "    </tr>\n",
       "    <tr>\n",
       "      <th>289</th>\n",
       "      <td>Female</td>\n",
       "      <td>Middle Class</td>\n",
       "      <td>64.068846</td>\n",
       "      <td>-3.077884</td>\n",
       "      <td>9773.684255</td>\n",
       "    </tr>\n",
       "    <tr>\n",
       "      <th>7</th>\n",
       "      <td>Female</td>\n",
       "      <td>Middle Class</td>\n",
       "      <td>69.448671</td>\n",
       "      <td>-1.484832</td>\n",
       "      <td>12521.218820</td>\n",
       "    </tr>\n",
       "    <tr>\n",
       "      <th>58</th>\n",
       "      <td>Male</td>\n",
       "      <td>Rich</td>\n",
       "      <td>59.296259</td>\n",
       "      <td>-1.357453</td>\n",
       "      <td>18205.515162</td>\n",
       "    </tr>\n",
       "    <tr>\n",
       "      <th>130</th>\n",
       "      <td>Female</td>\n",
       "      <td>Middle Class</td>\n",
       "      <td>53.329666</td>\n",
       "      <td>-0.235037</td>\n",
       "      <td>22056.223877</td>\n",
       "    </tr>\n",
       "    <tr>\n",
       "      <th>333</th>\n",
       "      <td>Female</td>\n",
       "      <td>Rich</td>\n",
       "      <td>40.079063</td>\n",
       "      <td>2.296878</td>\n",
       "      <td>17618.068648</td>\n",
       "    </tr>\n",
       "    <tr>\n",
       "      <th>373</th>\n",
       "      <td>Female</td>\n",
       "      <td>Middle Class</td>\n",
       "      <td>26.706909</td>\n",
       "      <td>2.591396</td>\n",
       "      <td>16410.231296</td>\n",
       "    </tr>\n",
       "    <tr>\n",
       "      <th>18</th>\n",
       "      <td>Male</td>\n",
       "      <td>Middle Class</td>\n",
       "      <td>48.186909</td>\n",
       "      <td>2.874732</td>\n",
       "      <td>17835.479301</td>\n",
       "    </tr>\n",
       "    <tr>\n",
       "      <th>327</th>\n",
       "      <td>Male</td>\n",
       "      <td>Middle Class</td>\n",
       "      <td>71.638488</td>\n",
       "      <td>3.189308</td>\n",
       "      <td>15761.991440</td>\n",
       "    </tr>\n",
       "    <tr>\n",
       "      <th>467</th>\n",
       "      <td>Male</td>\n",
       "      <td>Poor</td>\n",
       "      <td>26.831201</td>\n",
       "      <td>5.630978</td>\n",
       "      <td>13140.514690</td>\n",
       "    </tr>\n",
       "  </tbody>\n",
       "</table>\n",
       "</div>"
      ],
      "text/plain": [
       "     Gender Economic Status     Height        Age        Income\n",
       "30   Female            Rich  84.633610 -13.210429  16602.892642\n",
       "289  Female    Middle Class  64.068846  -3.077884   9773.684255\n",
       "7    Female    Middle Class  69.448671  -1.484832  12521.218820\n",
       "58     Male            Rich  59.296259  -1.357453  18205.515162\n",
       "130  Female    Middle Class  53.329666  -0.235037  22056.223877\n",
       "333  Female            Rich  40.079063   2.296878  17618.068648\n",
       "373  Female    Middle Class  26.706909   2.591396  16410.231296\n",
       "18     Male    Middle Class  48.186909   2.874732  17835.479301\n",
       "327    Male    Middle Class  71.638488   3.189308  15761.991440\n",
       "467    Male            Poor  26.831201   5.630978  13140.514690"
      ]
     },
     "execution_count": 45,
     "metadata": {},
     "output_type": "execute_result"
    }
   ],
   "source": [
    "data_sorted.head(10)"
   ]
  },
  {
   "cell_type": "code",
   "execution_count": 46,
   "id": "53c65b13",
   "metadata": {},
   "outputs": [],
   "source": [
    "age_grouped = data_sorted.groupby(\"Gender\")"
   ]
  },
  {
   "cell_type": "code",
   "execution_count": 50,
   "id": "741bb17a",
   "metadata": {},
   "outputs": [
    {
     "data": {
      "text/html": [
       "<div>\n",
       "<style scoped>\n",
       "    .dataframe tbody tr th:only-of-type {\n",
       "        vertical-align: middle;\n",
       "    }\n",
       "\n",
       "    .dataframe tbody tr th {\n",
       "        vertical-align: top;\n",
       "    }\n",
       "\n",
       "    .dataframe thead th {\n",
       "        text-align: right;\n",
       "    }\n",
       "</style>\n",
       "<table border=\"1\" class=\"dataframe\">\n",
       "  <thead>\n",
       "    <tr style=\"text-align: right;\">\n",
       "      <th></th>\n",
       "      <th>Gender</th>\n",
       "      <th>Economic Status</th>\n",
       "      <th>Height</th>\n",
       "      <th>Age</th>\n",
       "      <th>Income</th>\n",
       "    </tr>\n",
       "  </thead>\n",
       "  <tbody>\n",
       "    <tr>\n",
       "      <th>30</th>\n",
       "      <td>Female</td>\n",
       "      <td>Rich</td>\n",
       "      <td>84.633610</td>\n",
       "      <td>-13.210429</td>\n",
       "      <td>16602.892642</td>\n",
       "    </tr>\n",
       "    <tr>\n",
       "      <th>58</th>\n",
       "      <td>Male</td>\n",
       "      <td>Rich</td>\n",
       "      <td>59.296259</td>\n",
       "      <td>-1.357453</td>\n",
       "      <td>18205.515162</td>\n",
       "    </tr>\n",
       "  </tbody>\n",
       "</table>\n",
       "</div>"
      ],
      "text/plain": [
       "    Gender Economic Status     Height        Age        Income\n",
       "30  Female            Rich  84.633610 -13.210429  16602.892642\n",
       "58    Male            Rich  59.296259  -1.357453  18205.515162"
      ]
     },
     "execution_count": 50,
     "metadata": {},
     "output_type": "execute_result"
    }
   ],
   "source": [
    "age_grouped.head(1)"
   ]
  },
  {
   "cell_type": "code",
   "execution_count": 51,
   "id": "0ebdbad8",
   "metadata": {},
   "outputs": [
    {
     "data": {
      "text/html": [
       "<div>\n",
       "<style scoped>\n",
       "    .dataframe tbody tr th:only-of-type {\n",
       "        vertical-align: middle;\n",
       "    }\n",
       "\n",
       "    .dataframe tbody tr th {\n",
       "        vertical-align: top;\n",
       "    }\n",
       "\n",
       "    .dataframe thead th {\n",
       "        text-align: right;\n",
       "    }\n",
       "</style>\n",
       "<table border=\"1\" class=\"dataframe\">\n",
       "  <thead>\n",
       "    <tr style=\"text-align: right;\">\n",
       "      <th></th>\n",
       "      <th>Gender</th>\n",
       "      <th>Economic Status</th>\n",
       "      <th>Height</th>\n",
       "      <th>Age</th>\n",
       "      <th>Income</th>\n",
       "    </tr>\n",
       "  </thead>\n",
       "  <tbody>\n",
       "    <tr>\n",
       "      <th>311</th>\n",
       "      <td>Male</td>\n",
       "      <td>Poor</td>\n",
       "      <td>65.640434</td>\n",
       "      <td>60.613040</td>\n",
       "      <td>20633.037125</td>\n",
       "    </tr>\n",
       "    <tr>\n",
       "      <th>59</th>\n",
       "      <td>Female</td>\n",
       "      <td>Rich</td>\n",
       "      <td>35.491531</td>\n",
       "      <td>72.986254</td>\n",
       "      <td>20727.843146</td>\n",
       "    </tr>\n",
       "  </tbody>\n",
       "</table>\n",
       "</div>"
      ],
      "text/plain": [
       "     Gender Economic Status     Height        Age        Income\n",
       "311    Male            Poor  65.640434  60.613040  20633.037125\n",
       "59   Female            Rich  35.491531  72.986254  20727.843146"
      ]
     },
     "execution_count": 51,
     "metadata": {},
     "output_type": "execute_result"
    }
   ],
   "source": [
    "age_grouped.tail(1)"
   ]
  },
  {
   "cell_type": "markdown",
   "id": "15862edb",
   "metadata": {},
   "source": [
    "## Conjunto de entrenamiento y conjunto de testing"
   ]
  },
  {
   "cell_type": "code",
   "execution_count": 67,
   "id": "62d5fd9f",
   "metadata": {},
   "outputs": [],
   "source": [
    "dataset_path = '../../data/python-ml-course/datasets/customer-churn-model/Customer Churn Model.txt'\n",
    "data = pd.read_csv(dataset_path)"
   ]
  },
  {
   "cell_type": "code",
   "execution_count": 72,
   "id": "d6c31ab1",
   "metadata": {},
   "outputs": [
    {
     "data": {
      "text/plain": [
       "3333"
      ]
     },
     "execution_count": 72,
     "metadata": {},
     "output_type": "execute_result"
    }
   ],
   "source": [
    "len(data)"
   ]
  },
  {
   "cell_type": "markdown",
   "id": "da3df2a7",
   "metadata": {},
   "source": [
    "## Dividir utilizando la distribución normal"
   ]
  },
  {
   "cell_type": "code",
   "execution_count": 73,
   "id": "08b34df2",
   "metadata": {},
   "outputs": [],
   "source": [
    "a = np.random.randn(len(data))"
   ]
  },
  {
   "cell_type": "code",
   "execution_count": 74,
   "id": "59cb9c2e",
   "metadata": {
    "scrolled": true
   },
   "outputs": [
    {
     "data": {
      "text/plain": [
       "(array([  1.,  22., 129., 393., 736., 934., 684., 318., 101.,  15.]),\n",
       " array([-3.84955736, -3.13781165, -2.42606594, -1.71432023, -1.00257452,\n",
       "        -0.29082882,  0.42091689,  1.1326626 ,  1.84440831,  2.55615402,\n",
       "         3.26789973]),\n",
       " <BarContainer object of 10 artists>)"
      ]
     },
     "execution_count": 74,
     "metadata": {},
     "output_type": "execute_result"
    },
    {
     "data": {
      "image/png": "[encoded data removed]",
      "text/plain": [
       "<Figure size 432x288 with 1 Axes>"
      ]
     },
     "metadata": {
      "needs_background": "light"
     },
     "output_type": "display_data"
    }
   ],
   "source": [
    "plt.hist(a)"
   ]
  },
  {
   "cell_type": "code",
   "execution_count": 75,
   "id": "edf3135b",
   "metadata": {},
   "outputs": [],
   "source": [
    "check = (a < 0.8)"
   ]
  },
  {
   "cell_type": "code",
   "execution_count": 76,
   "id": "7b634c0f",
   "metadata": {},
   "outputs": [
    {
     "data": {
      "text/plain": [
       "array([ True,  True, False, ..., False,  True,  True])"
      ]
     },
     "execution_count": 76,
     "metadata": {},
     "output_type": "execute_result"
    }
   ],
   "source": [
    "check"
   ]
  },
  {
   "cell_type": "code",
   "execution_count": 78,
   "id": "8d57c375",
   "metadata": {},
   "outputs": [
    {
     "data": {
      "text/plain": [
       "(array([ 685.,    0.,    0.,    0.,    0.,    0.,    0.,    0.,    0.,\n",
       "        2648.]),\n",
       " array([0. , 0.1, 0.2, 0.3, 0.4, 0.5, 0.6, 0.7, 0.8, 0.9, 1. ]),\n",
       " <BarContainer object of 10 artists>)"
      ]
     },
     "execution_count": 78,
     "metadata": {},
     "output_type": "execute_result"
    },
    {
     "data": {
      "image/png": "[encoded data removed]",
      "text/plain": [
       "<Figure size 432x288 with 1 Axes>"
      ]
     },
     "metadata": {
      "needs_background": "light"
     },
     "output_type": "display_data"
    }
   ],
   "source": [
    "plt.hist(check.astype(int))"
   ]
  },
  {
   "cell_type": "code",
   "execution_count": 80,
   "id": "e1c7a8a3",
   "metadata": {},
   "outputs": [],
   "source": [
    "training = data[check]\n",
    "testing = data[~check]"
   ]
  },
  {
   "cell_type": "code",
   "execution_count": 88,
   "id": "08e661c0",
   "metadata": {},
   "outputs": [
    {
     "data": {
      "text/plain": [
       "2648"
      ]
     },
     "execution_count": 88,
     "metadata": {},
     "output_type": "execute_result"
    }
   ],
   "source": [
    "len(training)"
   ]
  },
  {
   "cell_type": "code",
   "execution_count": 87,
   "id": "a2078bb7",
   "metadata": {},
   "outputs": [
    {
     "data": {
      "text/plain": [
       "685"
      ]
     },
     "execution_count": 87,
     "metadata": {},
     "output_type": "execute_result"
    }
   ],
   "source": [
    "len(testing)"
   ]
  },
  {
   "cell_type": "markdown",
   "id": "ed1ed2f6",
   "metadata": {},
   "source": [
    "## Con la libreria sklearn"
   ]
  },
  {
   "cell_type": "code",
   "execution_count": 90,
   "id": "39e350f1",
   "metadata": {},
   "outputs": [],
   "source": [
    "from sklearn.model_selection import train_test_split"
   ]
  },
  {
   "cell_type": "code",
   "execution_count": 91,
   "id": "87c07f27",
   "metadata": {},
   "outputs": [],
   "source": [
    "train, test = train_test_split(data, test_size=0.2)"
   ]
  },
  {
   "cell_type": "code",
   "execution_count": 92,
   "id": "6c092cb6",
   "metadata": {},
   "outputs": [
    {
     "data": {
      "text/plain": [
       "2648"
      ]
     },
     "execution_count": 92,
     "metadata": {},
     "output_type": "execute_result"
    }
   ],
   "source": [
    "len(training)"
   ]
  },
  {
   "cell_type": "code",
   "execution_count": 93,
   "id": "c3357677",
   "metadata": {},
   "outputs": [
    {
     "data": {
      "text/plain": [
       "685"
      ]
     },
     "execution_count": 93,
     "metadata": {},
     "output_type": "execute_result"
    }
   ],
   "source": [
    "len(testing)"
   ]
  },
  {
   "cell_type": "markdown",
   "id": "dce151cd",
   "metadata": {},
   "source": [
    "## Usando una función shuffle"
   ]
  },
  {
   "cell_type": "code",
   "execution_count": 96,
   "id": "3269a845",
   "metadata": {},
   "outputs": [],
   "source": [
    "import numpy as np\n",
    "import sklearn"
   ]
  },
  {
   "cell_type": "code",
   "execution_count": 99,
   "id": "ccb0507a",
   "metadata": {},
   "outputs": [],
   "source": [
    "data = sklearn.utils.shuffle(data)"
   ]
  },
  {
   "cell_type": "code",
   "execution_count": 101,
   "id": "afb4af9a",
   "metadata": {},
   "outputs": [],
   "source": [
    "cut_ud = int(0.75 * len(data))\n",
    "train_data = data[:cut_ud]\n",
    "test_data = data[cut_ud+1:]"
   ]
  },
  {
   "cell_type": "code",
   "execution_count": 102,
   "id": "f57a4fb7",
   "metadata": {},
   "outputs": [
    {
     "data": {
      "text/plain": [
       "2499"
      ]
     },
     "execution_count": 102,
     "metadata": {},
     "output_type": "execute_result"
    }
   ],
   "source": [
    "len(train_data)"
   ]
  },
  {
   "cell_type": "code",
   "execution_count": 103,
   "id": "6c7c0e1e",
   "metadata": {},
   "outputs": [
    {
     "data": {
      "text/plain": [
       "833"
      ]
     },
     "execution_count": 103,
     "metadata": {},
     "output_type": "execute_result"
    }
   ],
   "source": [
    "len(test_data)"
   ]
  }
 ],
 "metadata": {
  "kernelspec": {
   "display_name": "Python 3 (ipykernel)",
   "language": "python",
   "name": "python3"
  },
  "language_info": {
   "codemirror_mode": {
    "name": "ipython",
    "version": 3
   },
   "file_extension": ".py",
   "mimetype": "text/x-python",
   "name": "python",
   "nbconvert_exporter": "python",
   "pygments_lexer": "ipython3",
   "version": "3.7.12"
  }
 },
 "nbformat": 4,
 "nbformat_minor": 5
}
