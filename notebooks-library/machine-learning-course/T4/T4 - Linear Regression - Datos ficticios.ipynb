{
 "cells": [
  {
   "cell_type": "markdown",
   "id": "13c8d893",
   "metadata": {},
   "source": [
    "# Modelos de Regresión Lineal\n",
    "## Modelo con datos simulados\n",
    "\n",
    "- y = a + b * x\n",
    "- X :  100 valores distribuídos según una N(1.5, 2.5)\n",
    "- Ye = 5 + 1.9 * x\n",
    "- e estará distribuida según una N(0, 0.8)"
   ]
  },
  {
   "cell_type": "code",
   "execution_count": 2,
   "id": "f3d8bbc9",
   "metadata": {},
   "outputs": [],
   "source": [
    "import pandas as pd\n",
    "import numpy as np\n",
    "import matplotlib.pyplot as plt"
   ]
  },
  {
   "cell_type": "code",
   "execution_count": 3,
   "id": "0a2afbde",
   "metadata": {},
   "outputs": [],
   "source": [
    "x = 1.5 + 2.5 * np.random.randn(100)"
   ]
  },
  {
   "cell_type": "code",
   "execution_count": 4,
   "id": "dae5ffa0",
   "metadata": {},
   "outputs": [
    {
     "data": {
      "text/plain": [
       "(array([ 6.,  9.,  6., 10., 20., 19., 19.,  7.,  2.,  2.]),\n",
       " array([-4.39724888, -3.17311538, -1.94898187, -0.72484836,  0.49928514,\n",
       "         1.72341865,  2.94755216,  4.17168566,  5.39581917,  6.61995267,\n",
       "         7.84408618]),\n",
       " <BarContainer object of 10 artists>)"
      ]
     },
     "execution_count": 4,
     "metadata": {},
     "output_type": "execute_result"
    },
    {
     "data": {
      "image/png": "[encoded data removed]",
      "text/plain": [
       "<Figure size 432x288 with 1 Axes>"
      ]
     },
     "metadata": {
      "needs_background": "light"
     },
     "output_type": "display_data"
    }
   ],
   "source": [
    "plt.hist(x)"
   ]
  },
  {
   "cell_type": "code",
   "execution_count": 5,
   "id": "a87f64ad",
   "metadata": {},
   "outputs": [],
   "source": [
    "res = 0 + 0.8 * np.random.randn(100)"
   ]
  },
  {
   "cell_type": "code",
   "execution_count": 6,
   "id": "39dd8b8f",
   "metadata": {},
   "outputs": [],
   "source": [
    "y_pred = 5 + 1.9 * x"
   ]
  },
  {
   "cell_type": "code",
   "execution_count": 7,
   "id": "ae86b330",
   "metadata": {},
   "outputs": [],
   "source": [
    "y_act =  5 + 1.9 * x + res"
   ]
  },
  {
   "cell_type": "code",
   "execution_count": 8,
   "id": "380f4eea",
   "metadata": {},
   "outputs": [],
   "source": [
    "x_list = x.tolist()\n",
    "y_pred_list = y_pred.tolist()\n",
    "y_act_list = y_act.tolist()"
   ]
  },
  {
   "cell_type": "code",
   "execution_count": 9,
   "id": "4a4de791",
   "metadata": {},
   "outputs": [],
   "source": [
    "data = pd.DataFrame(\n",
    "    {\n",
    "        \"x\": x_list,\n",
    "        \"y_act\": y_act_list,\n",
    "        \"y_pred\": y_pred_list\n",
    "    }\n",
    ")"
   ]
  },
  {
   "cell_type": "code",
   "execution_count": 10,
   "id": "10a58990",
   "metadata": {},
   "outputs": [
    {
     "data": {
      "text/html": [
       "<div>\n",
       "<style scoped>\n",
       "    .dataframe tbody tr th:only-of-type {\n",
       "        vertical-align: middle;\n",
       "    }\n",
       "\n",
       "    .dataframe tbody tr th {\n",
       "        vertical-align: top;\n",
       "    }\n",
       "\n",
       "    .dataframe thead th {\n",
       "        text-align: right;\n",
       "    }\n",
       "</style>\n",
       "<table border=\"1\" class=\"dataframe\">\n",
       "  <thead>\n",
       "    <tr style=\"text-align: right;\">\n",
       "      <th></th>\n",
       "      <th>x</th>\n",
       "      <th>y_act</th>\n",
       "      <th>y_pred</th>\n",
       "    </tr>\n",
       "  </thead>\n",
       "  <tbody>\n",
       "    <tr>\n",
       "      <th>0</th>\n",
       "      <td>3.272239</td>\n",
       "      <td>12.323839</td>\n",
       "      <td>11.217253</td>\n",
       "    </tr>\n",
       "    <tr>\n",
       "      <th>1</th>\n",
       "      <td>0.487538</td>\n",
       "      <td>5.520145</td>\n",
       "      <td>5.926321</td>\n",
       "    </tr>\n",
       "    <tr>\n",
       "      <th>2</th>\n",
       "      <td>-2.975337</td>\n",
       "      <td>-0.973568</td>\n",
       "      <td>-0.653140</td>\n",
       "    </tr>\n",
       "    <tr>\n",
       "      <th>3</th>\n",
       "      <td>-2.552246</td>\n",
       "      <td>0.303674</td>\n",
       "      <td>0.150733</td>\n",
       "    </tr>\n",
       "    <tr>\n",
       "      <th>4</th>\n",
       "      <td>1.031840</td>\n",
       "      <td>7.558183</td>\n",
       "      <td>6.960496</td>\n",
       "    </tr>\n",
       "  </tbody>\n",
       "</table>\n",
       "</div>"
      ],
      "text/plain": [
       "          x      y_act     y_pred\n",
       "0  3.272239  12.323839  11.217253\n",
       "1  0.487538   5.520145   5.926321\n",
       "2 -2.975337  -0.973568  -0.653140\n",
       "3 -2.552246   0.303674   0.150733\n",
       "4  1.031840   7.558183   6.960496"
      ]
     },
     "execution_count": 10,
     "metadata": {},
     "output_type": "execute_result"
    }
   ],
   "source": [
    "data.head()"
   ]
  },
  {
   "cell_type": "code",
   "execution_count": 38,
   "id": "0c0b7777",
   "metadata": {},
   "outputs": [],
   "source": [
    "y_mean_vect = [np.mean(y_act)for i in range(1, len(x_list) +  1)]"
   ]
  },
  {
   "cell_type": "code",
   "execution_count": 39,
   "id": "9398fb98",
   "metadata": {},
   "outputs": [
    {
     "data": {
      "text/plain": [
       "Text(0.5, 1.0, 'Valor Actual vs Predicción')"
      ]
     },
     "execution_count": 39,
     "metadata": {},
     "output_type": "execute_result"
    },
    {
     "data": {
      "image/png": "[encoded data removed]",
      "text/plain": [
       "<Figure size 432x288 with 1 Axes>"
      ]
     },
     "metadata": {
      "needs_background": "light"
     },
     "output_type": "display_data"
    }
   ],
   "source": [
    "%matplotlib inline\n",
    "\n",
    "plt.plot(data[\"x\"], data[\"y_pred\"])\n",
    "plt.plot(data[\"x\"], data[\"y_act\"], \"ro\")\n",
    "plt.plot(data[\"x\"], y_mean_vect, \"g\")\n",
    "plt.title(\"Valor Actual vs Predicción\")"
   ]
  },
  {
   "cell_type": "code",
   "execution_count": 13,
   "id": "0fb03998",
   "metadata": {},
   "outputs": [],
   "source": [
    "data[\"SSR\"] = (data[\"y_pred\"] - np.mean(data[\"y_act\"])) ** 2\n",
    "data[\"SSD\"] = (data[\"y_pred\"] - data[\"y_act\"]) ** 2\n",
    "data[\"SST\"] = (data[\"y_act\"] - np.mean(data[\"y_act\"])) ** 2"
   ]
  },
  {
   "cell_type": "code",
   "execution_count": 14,
   "id": "63b77ff8",
   "metadata": {},
   "outputs": [
    {
     "data": {
      "text/html": [
       "<div>\n",
       "<style scoped>\n",
       "    .dataframe tbody tr th:only-of-type {\n",
       "        vertical-align: middle;\n",
       "    }\n",
       "\n",
       "    .dataframe tbody tr th {\n",
       "        vertical-align: top;\n",
       "    }\n",
       "\n",
       "    .dataframe thead th {\n",
       "        text-align: right;\n",
       "    }\n",
       "</style>\n",
       "<table border=\"1\" class=\"dataframe\">\n",
       "  <thead>\n",
       "    <tr style=\"text-align: right;\">\n",
       "      <th></th>\n",
       "      <th>x</th>\n",
       "      <th>y_act</th>\n",
       "      <th>y_pred</th>\n",
       "      <th>SSR</th>\n",
       "      <th>SSD</th>\n",
       "      <th>SST</th>\n",
       "    </tr>\n",
       "  </thead>\n",
       "  <tbody>\n",
       "    <tr>\n",
       "      <th>0</th>\n",
       "      <td>3.272239</td>\n",
       "      <td>12.323839</td>\n",
       "      <td>11.217253</td>\n",
       "      <td>12.322228</td>\n",
       "      <td>1.224532</td>\n",
       "      <td>21.315661</td>\n",
       "    </tr>\n",
       "    <tr>\n",
       "      <th>1</th>\n",
       "      <td>0.487538</td>\n",
       "      <td>5.520145</td>\n",
       "      <td>5.926321</td>\n",
       "      <td>3.170640</td>\n",
       "      <td>0.164979</td>\n",
       "      <td>4.782119</td>\n",
       "    </tr>\n",
       "    <tr>\n",
       "      <th>2</th>\n",
       "      <td>-2.975337</td>\n",
       "      <td>-0.973568</td>\n",
       "      <td>-0.653140</td>\n",
       "      <td>69.891114</td>\n",
       "      <td>0.102674</td>\n",
       "      <td>75.351403</td>\n",
       "    </tr>\n",
       "    <tr>\n",
       "      <th>3</th>\n",
       "      <td>-2.552246</td>\n",
       "      <td>0.303674</td>\n",
       "      <td>0.150733</td>\n",
       "      <td>57.096425</td>\n",
       "      <td>0.023391</td>\n",
       "      <td>54.808507</td>\n",
       "    </tr>\n",
       "    <tr>\n",
       "      <th>4</th>\n",
       "      <td>1.031840</td>\n",
       "      <td>7.558183</td>\n",
       "      <td>6.960496</td>\n",
       "      <td>0.557193</td>\n",
       "      <td>0.357229</td>\n",
       "      <td>0.022132</td>\n",
       "    </tr>\n",
       "  </tbody>\n",
       "</table>\n",
       "</div>"
      ],
      "text/plain": [
       "          x      y_act     y_pred        SSR       SSD        SST\n",
       "0  3.272239  12.323839  11.217253  12.322228  1.224532  21.315661\n",
       "1  0.487538   5.520145   5.926321   3.170640  0.164979   4.782119\n",
       "2 -2.975337  -0.973568  -0.653140  69.891114  0.102674  75.351403\n",
       "3 -2.552246   0.303674   0.150733  57.096425  0.023391  54.808507\n",
       "4  1.031840   7.558183   6.960496   0.557193  0.357229   0.022132"
      ]
     },
     "execution_count": 14,
     "metadata": {},
     "output_type": "execute_result"
    }
   ],
   "source": [
    "data.head()"
   ]
  },
  {
   "cell_type": "code",
   "execution_count": 15,
   "id": "d71ad2da",
   "metadata": {},
   "outputs": [],
   "source": [
    "SSR = sum(data[\"SSR\"])\n",
    "SSD = sum(data[\"SSD\"])\n",
    "SST = sum(data[\"SST\"])"
   ]
  },
  {
   "cell_type": "code",
   "execution_count": 16,
   "id": "3ebafb55",
   "metadata": {},
   "outputs": [
    {
     "data": {
      "text/plain": [
       "2448.198053538857"
      ]
     },
     "execution_count": 16,
     "metadata": {},
     "output_type": "execute_result"
    }
   ],
   "source": [
    "SSR"
   ]
  },
  {
   "cell_type": "code",
   "execution_count": 17,
   "id": "fc7f4f7d",
   "metadata": {},
   "outputs": [
    {
     "data": {
      "text/plain": [
       "74.93219670345651"
      ]
     },
     "execution_count": 17,
     "metadata": {},
     "output_type": "execute_result"
    }
   ],
   "source": [
    "SSD"
   ]
  },
  {
   "cell_type": "code",
   "execution_count": 18,
   "id": "48661980",
   "metadata": {},
   "outputs": [
    {
     "data": {
      "text/plain": [
       "2554.2418785079512"
      ]
     },
     "execution_count": 18,
     "metadata": {},
     "output_type": "execute_result"
    }
   ],
   "source": [
    "SST"
   ]
  },
  {
   "cell_type": "code",
   "execution_count": 19,
   "id": "e48e8ad3",
   "metadata": {},
   "outputs": [
    {
     "data": {
      "text/plain": [
       "0.9584832486455671"
      ]
     },
     "execution_count": 19,
     "metadata": {},
     "output_type": "execute_result"
    }
   ],
   "source": [
    "R2 = SSR/SST\n",
    "R2"
   ]
  },
  {
   "cell_type": "code",
   "execution_count": 20,
   "id": "0b5509b9",
   "metadata": {
    "scrolled": true
   },
   "outputs": [
    {
     "data": {
      "text/plain": [
       "(array([ 3.,  7., 14., 14., 18., 15., 13., 11.,  4.,  1.]),\n",
       " array([-1.97948919, -1.56656944, -1.15364969, -0.74072994, -0.32781019,\n",
       "         0.08510956,  0.49802931,  0.91094906,  1.32386881,  1.73678856,\n",
       "         2.14970832]),\n",
       " <BarContainer object of 10 artists>)"
      ]
     },
     "execution_count": 20,
     "metadata": {},
     "output_type": "execute_result"
    },
    {
     "data": {
      "image/png": "[encoded data removed]",
      "text/plain": [
       "<Figure size 432x288 with 1 Axes>"
      ]
     },
     "metadata": {
      "needs_background": "light"
     },
     "output_type": "display_data"
    }
   ],
   "source": [
    "plt.hist(data[\"y_pred\"] - data[\"y_act\"])"
   ]
  },
  {
   "cell_type": "markdown",
   "id": "60e709d4",
   "metadata": {},
   "source": [
    "## Obteniendo la recta de regresión\n",
    "- y = a + b * x\n",
    "- b = sum((x_i) - x_m) * (y_i - y_m)) / sum((x_i - x_m)²)\n",
    "- a = y_m - b * x_m"
   ]
  },
  {
   "cell_type": "code",
   "execution_count": 24,
   "id": "630f05bb",
   "metadata": {},
   "outputs": [
    {
     "data": {
      "text/plain": [
       "(1.40156547164009, 7.706950305004569)"
      ]
     },
     "execution_count": 24,
     "metadata": {},
     "output_type": "execute_result"
    }
   ],
   "source": [
    "x_mean = np.mean(data[\"x\"])\n",
    "y_mean = np.mean(data[\"y_act\"])\n",
    "x_mean, y_mean"
   ]
  },
  {
   "cell_type": "code",
   "execution_count": 25,
   "id": "214d6ee7",
   "metadata": {},
   "outputs": [],
   "source": [
    "data[\"beta_n\"] = (data[\"x\"] - x_mean) * (data[\"y_act\"] - y_mean)\n",
    "data[\"beta_d\"] = (data[\"x\"] - x_mean)**2"
   ]
  },
  {
   "cell_type": "code",
   "execution_count": 26,
   "id": "42f4058d",
   "metadata": {},
   "outputs": [],
   "source": [
    "beta = sum(data[\"beta_n\"])/sum(data[\"beta_d\"])"
   ]
  },
  {
   "cell_type": "code",
   "execution_count": 27,
   "id": "4cd87c04",
   "metadata": {},
   "outputs": [],
   "source": [
    "alpha = y_mean - beta * x_mean"
   ]
  },
  {
   "cell_type": "code",
   "execution_count": 28,
   "id": "f4c1103d",
   "metadata": {},
   "outputs": [
    {
     "data": {
      "text/plain": [
       "(5.026843702083353, 1.9122236221936868)"
      ]
     },
     "execution_count": 28,
     "metadata": {},
     "output_type": "execute_result"
    }
   ],
   "source": [
    "alpha, beta"
   ]
  },
  {
   "cell_type": "code",
   "execution_count": 29,
   "id": "4670b3db",
   "metadata": {},
   "outputs": [],
   "source": [
    "data[\"y_model\"] = alpha + beta * data[\"x\"]"
   ]
  },
  {
   "cell_type": "code",
   "execution_count": 30,
   "id": "ef19ea7f",
   "metadata": {},
   "outputs": [
    {
     "data": {
      "text/html": [
       "<div>\n",
       "<style scoped>\n",
       "    .dataframe tbody tr th:only-of-type {\n",
       "        vertical-align: middle;\n",
       "    }\n",
       "\n",
       "    .dataframe tbody tr th {\n",
       "        vertical-align: top;\n",
       "    }\n",
       "\n",
       "    .dataframe thead th {\n",
       "        text-align: right;\n",
       "    }\n",
       "</style>\n",
       "<table border=\"1\" class=\"dataframe\">\n",
       "  <thead>\n",
       "    <tr style=\"text-align: right;\">\n",
       "      <th></th>\n",
       "      <th>x</th>\n",
       "      <th>y_act</th>\n",
       "      <th>y_pred</th>\n",
       "      <th>SSR</th>\n",
       "      <th>SSD</th>\n",
       "      <th>SST</th>\n",
       "      <th>beta_n</th>\n",
       "      <th>beta_d</th>\n",
       "      <th>y_model</th>\n",
       "    </tr>\n",
       "  </thead>\n",
       "  <tbody>\n",
       "    <tr>\n",
       "      <th>0</th>\n",
       "      <td>3.272239</td>\n",
       "      <td>12.323839</td>\n",
       "      <td>11.217253</td>\n",
       "      <td>12.322228</td>\n",
       "      <td>1.224532</td>\n",
       "      <td>21.315661</td>\n",
       "      <td>8.636690</td>\n",
       "      <td>3.499418</td>\n",
       "      <td>11.284096</td>\n",
       "    </tr>\n",
       "    <tr>\n",
       "      <th>1</th>\n",
       "      <td>0.487538</td>\n",
       "      <td>5.520145</td>\n",
       "      <td>5.926321</td>\n",
       "      <td>3.170640</td>\n",
       "      <td>0.164979</td>\n",
       "      <td>4.782119</td>\n",
       "      <td>1.998801</td>\n",
       "      <td>0.835447</td>\n",
       "      <td>5.959125</td>\n",
       "    </tr>\n",
       "    <tr>\n",
       "      <th>2</th>\n",
       "      <td>-2.975337</td>\n",
       "      <td>-0.973568</td>\n",
       "      <td>-0.653140</td>\n",
       "      <td>69.891114</td>\n",
       "      <td>0.102674</td>\n",
       "      <td>75.351403</td>\n",
       "      <td>37.993783</td>\n",
       "      <td>19.157275</td>\n",
       "      <td>-0.662666</td>\n",
       "    </tr>\n",
       "    <tr>\n",
       "      <th>3</th>\n",
       "      <td>-2.552246</td>\n",
       "      <td>0.303674</td>\n",
       "      <td>0.150733</td>\n",
       "      <td>57.096425</td>\n",
       "      <td>0.023391</td>\n",
       "      <td>54.808507</td>\n",
       "      <td>29.271160</td>\n",
       "      <td>15.632625</td>\n",
       "      <td>0.146379</td>\n",
       "    </tr>\n",
       "    <tr>\n",
       "      <th>4</th>\n",
       "      <td>1.031840</td>\n",
       "      <td>7.558183</td>\n",
       "      <td>6.960496</td>\n",
       "      <td>0.557193</td>\n",
       "      <td>0.357229</td>\n",
       "      <td>0.022132</td>\n",
       "      <td>0.055003</td>\n",
       "      <td>0.136697</td>\n",
       "      <td>6.999953</td>\n",
       "    </tr>\n",
       "  </tbody>\n",
       "</table>\n",
       "</div>"
      ],
      "text/plain": [
       "          x      y_act     y_pred        SSR       SSD        SST     beta_n  \\\n",
       "0  3.272239  12.323839  11.217253  12.322228  1.224532  21.315661   8.636690   \n",
       "1  0.487538   5.520145   5.926321   3.170640  0.164979   4.782119   1.998801   \n",
       "2 -2.975337  -0.973568  -0.653140  69.891114  0.102674  75.351403  37.993783   \n",
       "3 -2.552246   0.303674   0.150733  57.096425  0.023391  54.808507  29.271160   \n",
       "4  1.031840   7.558183   6.960496   0.557193  0.357229   0.022132   0.055003   \n",
       "\n",
       "      beta_d    y_model  \n",
       "0   3.499418  11.284096  \n",
       "1   0.835447   5.959125  \n",
       "2  19.157275  -0.662666  \n",
       "3  15.632625   0.146379  \n",
       "4   0.136697   6.999953  "
      ]
     },
     "execution_count": 30,
     "metadata": {},
     "output_type": "execute_result"
    }
   ],
   "source": [
    "data.head()"
   ]
  },
  {
   "cell_type": "code",
   "execution_count": 34,
   "id": "a8f2b763",
   "metadata": {},
   "outputs": [],
   "source": [
    "SSR = sum((data[\"y_model\"] - y_mean)**2)\n",
    "SSD = sum((data[\"y_model\"] - data[\"y_act\"])**2)\n",
    "SST = sum((data[\"y_act\"] - y_mean)**2)"
   ]
  },
  {
   "cell_type": "code",
   "execution_count": 35,
   "id": "682cb007",
   "metadata": {},
   "outputs": [
    {
     "data": {
      "text/plain": [
       "(2479.6043921225455, 74.63748638540503, 2554.2418785079512)"
      ]
     },
     "execution_count": 35,
     "metadata": {},
     "output_type": "execute_result"
    }
   ],
   "source": [
    "SSR, SSD, SST"
   ]
  },
  {
   "cell_type": "code",
   "execution_count": 36,
   "id": "26c6689e",
   "metadata": {},
   "outputs": [
    {
     "data": {
      "text/plain": [
       "0.9707790060865321"
      ]
     },
     "execution_count": 36,
     "metadata": {},
     "output_type": "execute_result"
    }
   ],
   "source": [
    "R2 = SSR/SST\n",
    "R2"
   ]
  },
  {
   "cell_type": "code",
   "execution_count": 40,
   "id": "ba6e1b68",
   "metadata": {},
   "outputs": [
    {
     "data": {
      "text/plain": [
       "Text(0.5, 1.0, 'Valor Actual vs Predicción')"
      ]
     },
     "execution_count": 40,
     "metadata": {},
     "output_type": "execute_result"
    },
    {
     "data": {
      "image/png": "[encoded data removed]",
      "text/plain": [
       "<Figure size 432x288 with 1 Axes>"
      ]
     },
     "metadata": {
      "needs_background": "light"
     },
     "output_type": "display_data"
    }
   ],
   "source": [
    "%matplotlib inline\n",
    "\n",
    "plt.plot(data[\"x\"], data[\"y_pred\"])\n",
    "plt.plot(data[\"x\"], data[\"y_act\"], \"ro\")\n",
    "plt.plot(data[\"x\"], y_mean_vect, \"g\")\n",
    "plt.plot(data[\"x\"], data[\"y_model\"])\n",
    "plt.title(\"Valor Actual vs Predicción\")"
   ]
  },
  {
   "cell_type": "markdown",
   "id": "3a6dd013",
   "metadata": {},
   "source": [
    "## Error standar de los residuos (RSE)"
   ]
  },
  {
   "cell_type": "code",
   "execution_count": 47,
   "id": "19b7dd9b",
   "metadata": {},
   "outputs": [
    {
     "data": {
      "text/plain": [
       "0.872700981970746"
      ]
     },
     "execution_count": 47,
     "metadata": {},
     "output_type": "execute_result"
    }
   ],
   "source": [
    "RSE = np.sqrt(SSD / (len(data)-2))\n",
    "RSE"
   ]
  },
  {
   "cell_type": "code",
   "execution_count": 49,
   "id": "fdcb1120",
   "metadata": {},
   "outputs": [
    {
     "data": {
      "text/plain": [
       "7.706950305004569"
      ]
     },
     "execution_count": 49,
     "metadata": {},
     "output_type": "execute_result"
    }
   ],
   "source": [
    "y_mean"
   ]
  },
  {
   "cell_type": "code",
   "execution_count": 50,
   "id": "efd3ff0b",
   "metadata": {},
   "outputs": [
    {
     "data": {
      "text/plain": [
       "0.11323557924125327"
      ]
     },
     "execution_count": 50,
     "metadata": {},
     "output_type": "execute_result"
    }
   ],
   "source": [
    "RSE / y_mean"
   ]
  }
 ],
 "metadata": {
  "kernelspec": {
   "display_name": "Python 3 (ipykernel)",
   "language": "python",
   "name": "python3"
  },
  "language_info": {
   "codemirror_mode": {
    "name": "ipython",
    "version": 3
   },
   "file_extension": ".py",
   "mimetype": "text/x-python",
   "name": "python",
   "nbconvert_exporter": "python",
   "pygments_lexer": "ipython3",
   "version": "3.7.12"
  }
 },
 "nbformat": 4,
 "nbformat_minor": 5
}
